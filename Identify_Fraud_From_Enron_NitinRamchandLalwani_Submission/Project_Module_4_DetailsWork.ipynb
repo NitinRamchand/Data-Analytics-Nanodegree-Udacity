{
 "cells": [
  {
   "cell_type": "markdown",
   "metadata": {},
   "source": [
    "# Project 4 Intro to Machine Learning - Identify Fraud from Enron Email - Nitin Ramchand Lalwani"
   ]
  },
  {
   "cell_type": "markdown",
   "metadata": {},
   "source": [
    "## Introduction"
   ]
  },
  {
   "cell_type": "markdown",
   "metadata": {},
   "source": [
    "In 2000, Enron was one of the largest companies in the United States. By 2002, it had collapsed into bankruptcy due to widespread corporate fraud. In the resulting Federal investigation, a significant amount of typically confidential information entered into the public record, including tens of thousands of emails and detailed financial data for top executives. In this project, we will play detective by building a person of interest (POI) identifier based on financial and email data made public as a result of the Enron scandal. \n",
    "\n",
    "POI stands for Person of Interest.\n",
    "\n",
    "In the following file [poi_names.txt](poi_names.txt), we can see the POI identied in USAToday article (link found at the top of the txt file).\n",
    "\n",
    "The objective in this project is to build a supervised classification identified which can identify Person of Interests by combing email and financial data that we have."
   ]
  },
  {
   "cell_type": "markdown",
   "metadata": {},
   "source": [
    "## Dataset and Question"
   ]
  },
  {
   "cell_type": "markdown",
   "metadata": {},
   "source": [
    "### Data Exploration"
   ]
  },
  {
   "cell_type": "code",
   "execution_count": 78,
   "metadata": {},
   "outputs": [],
   "source": [
    "import pickle\n",
    "def open_dataset():\n",
    "    with open(\"final_project_dataset.pkl\", \"r\") as data_file:\n",
    "        data_dict = pickle.load(data_file)\n",
    "    return data_dict\n",
    "\n",
    "### Task 2: Remove outliers\n",
    "### Task 3: Create new feature(s)\n",
    "### Store to my_dataset for easy export below.\n",
    "\n",
    "\n",
    "my_dataset = open_dataset()"
   ]
  },
  {
   "cell_type": "markdown",
   "metadata": {},
   "source": [
    "The dataset has the following structure when loaded. It is a python dictionary with people's names as keys and another dictionary as values. In this dictionary, there are all the following features which will be used for the analysis. "
   ]
  },
  {
   "cell_type": "code",
   "execution_count": 79,
   "metadata": {},
   "outputs": [
    {
     "name": "stdout",
     "output_type": "stream",
     "text": [
      "{'bonus': 4175000,\n",
      " 'deferral_payments': 2869717,\n",
      " 'deferred_income': -3081055,\n",
      " 'director_fees': 'NaN',\n",
      " 'email_address': 'phillip.allen@enron.com',\n",
      " 'exercised_stock_options': 1729541,\n",
      " 'expenses': 13868,\n",
      " 'from_messages': 2195,\n",
      " 'from_poi_to_this_person': 47,\n",
      " 'from_this_person_to_poi': 65,\n",
      " 'loan_advances': 'NaN',\n",
      " 'long_term_incentive': 304805,\n",
      " 'other': 152,\n",
      " 'poi': False,\n",
      " 'restricted_stock': 126027,\n",
      " 'restricted_stock_deferred': -126027,\n",
      " 'salary': 201955,\n",
      " 'shared_receipt_with_poi': 1407,\n",
      " 'to_messages': 2902,\n",
      " 'total_payments': 4484442,\n",
      " 'total_stock_value': 1729541}\n"
     ]
    }
   ],
   "source": [
    "from pprint import pprint\n",
    "pprint(my_dataset['ALLEN PHILLIP K'])"
   ]
  },
  {
   "cell_type": "markdown",
   "metadata": {},
   "source": [
    "The total number of people we have in the dataset are:"
   ]
  },
  {
   "cell_type": "code",
   "execution_count": 3,
   "metadata": {},
   "outputs": [
    {
     "data": {
      "text/plain": [
       "146"
      ]
     },
     "execution_count": 3,
     "metadata": {},
     "output_type": "execute_result"
    }
   ],
   "source": [
    "len(my_dataset)"
   ]
  },
  {
   "cell_type": "markdown",
   "metadata": {},
   "source": [
    "As we can see below there are in total 18 names that have a Person of Interest (POI) tag since they are the ones containing a True value in for the \"POI\" feature. This are the number of POIs we have in the dataset, and in total we have 146 people so it means that when defining a classification algorithm, we must remember that it is not balanced with 18 POI vs 128 people with a non POI tag. "
   ]
  },
  {
   "cell_type": "code",
   "execution_count": 4,
   "metadata": {},
   "outputs": [
    {
     "data": {
      "text/plain": [
       "18"
      ]
     },
     "execution_count": 4,
     "metadata": {},
     "output_type": "execute_result"
    }
   ],
   "source": [
    "poi=[]\n",
    "for person in my_dataset:\n",
    "    poi.append(my_dataset[person]['poi'] == True)\n",
    "sum(poi)"
   ]
  },
  {
   "cell_type": "markdown",
   "metadata": {},
   "source": [
    "In the POI_names.txt file however we have a total of 35 POIs as we see below by counting the number of lines of names in the text file, but we don't have data for all 35 POIs identified but just 18 in our dataset."
   ]
  },
  {
   "cell_type": "code",
   "execution_count": 5,
   "metadata": {},
   "outputs": [
    {
     "name": "stdout",
     "output_type": "stream",
     "text": [
      "35\n"
     ]
    }
   ],
   "source": [
    "with open(\"poi_names.txt\") as f:\n",
    "    print len(f.readlines()[2:])"
   ]
  },
  {
   "cell_type": "markdown",
   "metadata": {},
   "source": [
    "Now we would like to understand which how much data we have for each of the features in our dataset for the 146 people. Some values inside the dataset are shown as \"NaN\" and we are looking for the percetages of information in the dataset that are not \"NaN\""
   ]
  },
  {
   "cell_type": "code",
   "execution_count": 6,
   "metadata": {},
   "outputs": [
    {
     "name": "stdout",
     "output_type": "stream",
     "text": [
      "{'bonus': 0.5616,\n",
      " 'deferral_payments': 0.2671,\n",
      " 'deferred_income': 0.3356,\n",
      " 'director_fees': 0.1164,\n",
      " 'email_address': 0.7603,\n",
      " 'exercised_stock_options': 0.6986,\n",
      " 'expenses': 0.6507,\n",
      " 'from_messages': 0.589,\n",
      " 'from_poi_to_this_person': 0.589,\n",
      " 'from_this_person_to_poi': 0.589,\n",
      " 'loan_advances': 0.0274,\n",
      " 'long_term_incentive': 0.4521,\n",
      " 'other': 0.637,\n",
      " 'poi': 1.0,\n",
      " 'restricted_stock': 0.7534,\n",
      " 'restricted_stock_deferred': 0.1233,\n",
      " 'salary': 0.6507,\n",
      " 'shared_receipt_with_poi': 0.589,\n",
      " 'to_messages': 0.589,\n",
      " 'total_payments': 0.8562,\n",
      " 'total_stock_value': 0.863}\n"
     ]
    }
   ],
   "source": [
    "import collections\n",
    "from pprint import pprint\n",
    "from __future__ import division\n",
    "populated_data_count = collections.defaultdict(int)\n",
    "populated_data_percentage = {}\n",
    "features = next(my_dataset.itervalues()).keys()\n",
    "for person_features in my_dataset.itervalues():\n",
    "    for feature in features:\n",
    "        if person_features[feature] != \"NaN\":\n",
    "            populated_data_count[feature] += 1\n",
    "for k,v in populated_data_count.iteritems():\n",
    "    populated_data_percentage[k] = round((v/len(my_dataset)),4)\n",
    "#pprint(populated_data_count)\n",
    "pprint(populated_data_percentage)"
   ]
  },
  {
   "cell_type": "code",
   "execution_count": 7,
   "metadata": {},
   "outputs": [
    {
     "data": {
      "text/plain": [
       "<Figure size 640x480 with 1 Axes>"
      ]
     },
     "metadata": {},
     "output_type": "display_data"
    }
   ],
   "source": [
    "import matplotlib.pyplot as plt\n",
    "\n",
    "plt.bar(*zip(*populated_data_percentage.items()))\n",
    "plt.xticks(rotation='vertical')\n",
    "plt.show()"
   ]
  },
  {
   "cell_type": "markdown",
   "metadata": {},
   "source": [
    "From this first exploration, we see that there are some features that don't have much data so for now lets consider the threshold of relavant features to be the ones over 50% of data from all the 146 people. Below we highligh the ones that have __less than 50%__ of the people filled:"
   ]
  },
  {
   "cell_type": "code",
   "execution_count": 8,
   "metadata": {},
   "outputs": [
    {
     "name": "stdout",
     "output_type": "stream",
     "text": [
      "'deferral_payments'\n",
      "'restricted_stock_deferred'\n",
      "'loan_advances'\n",
      "'director_fees'\n"
     ]
    }
   ],
   "source": [
    "for k, v in populated_data_percentage.iteritems():\n",
    "    if v < 0.3:\n",
    "        pprint(k)\n",
    "        "
   ]
  },
  {
   "cell_type": "markdown",
   "metadata": {},
   "source": [
    "Looking in more depth, for the above identified 6 features with less than 50% of data, whether from the data that they do have how many concern POIs from the 18 POIs in the dataset. If it is high, it may become a useful feature which we can analyze in further depth."
   ]
  },
  {
   "cell_type": "code",
   "execution_count": 9,
   "metadata": {},
   "outputs": [
    {
     "name": "stdout",
     "output_type": "stream",
     "text": [
      "deferral_income_and_poi 11\n",
      "loan_advances_and_poi 1\n",
      "restricted_stock_deferred_and_poi 0\n",
      "deferral_payments_and_poi 5\n",
      "long_term_incentive_and_poi 12\n",
      "director_fees_and_poi 0\n"
     ]
    }
   ],
   "source": [
    "poi= []\n",
    "deferral_payments_and_poi = []\n",
    "restricted_stock_deferred_and_poi = []\n",
    "deferral_income_and_poi = []\n",
    "loan_advances_and_poi = []\n",
    "long_term_incentive_and_poi = []\n",
    "director_fees_and_poi = []\n",
    "for person in my_dataset:\n",
    "    restricted_stock_deferred_and_poi.append((my_dataset[person]['restricted_stock_deferred'] != \"NaN\") & (my_dataset[person]['poi'] == True))\n",
    "    poi.append(my_dataset[person]['poi'] == True)\n",
    "    deferral_payments_and_poi.append((my_dataset[person]['deferral_payments'] != \"NaN\") & (my_dataset[person]['poi'] == True) )\n",
    "    deferral_income_and_poi.append((my_dataset[person]['deferred_income'] != \"NaN\") & (my_dataset[person]['poi'] == True))\n",
    "    loan_advances_and_poi.append((my_dataset[person]['loan_advances'] != \"NaN\") & (my_dataset[person]['poi'] == True))\n",
    "    long_term_incentive_and_poi.append((my_dataset[person]['long_term_incentive'] != \"NaN\") & (my_dataset[person]['poi'] == True))\n",
    "    director_fees_and_poi.append((my_dataset[person]['director_fees'] != \"NaN\") & (my_dataset[person]['poi'] == True))\n",
    "print \"deferral_income_and_poi\" , sum(deferral_income_and_poi)\n",
    "print \"loan_advances_and_poi\" ,sum(loan_advances_and_poi)\n",
    "print \"restricted_stock_deferred_and_poi\" ,sum(restricted_stock_deferred_and_poi)\n",
    "print \"deferral_payments_and_poi\" , sum(deferral_payments_and_poi)\n",
    "print \"long_term_incentive_and_poi\" ,sum(long_term_incentive_and_poi)\n",
    "print \"director_fees_and_poi\" ,sum(director_fees_and_poi)\n",
    "\n",
    "\n",
    "\n"
   ]
  },
  {
   "cell_type": "markdown",
   "metadata": {},
   "source": [
    "We see that for the deferral_income and long_term_incentive features there is not much information overall (for less than 50% of people in the dataset) but there is significantly high percentage of data for those people that have a __True__ tag in POI. So for our analysis as of now, we will only discard the other four features but we can keep these two just incase they provide us good information for the classification algorithms."
   ]
  },
  {
   "cell_type": "code",
   "execution_count": 10,
   "metadata": {},
   "outputs": [],
   "source": [
    "import warnings\n",
    "warnings.filterwarnings('ignore')"
   ]
  },
  {
   "cell_type": "markdown",
   "metadata": {},
   "source": [
    "### Outlier Removal"
   ]
  },
  {
   "cell_type": "markdown",
   "metadata": {},
   "source": [
    "As seen in the mini project work of the course, the 'TOTAL' key in the dataset dictionary is probably a spreadsheet error and is an obvious outlier that we can remove."
   ]
  },
  {
   "cell_type": "code",
   "execution_count": 11,
   "metadata": {},
   "outputs": [
    {
     "data": {
      "text/plain": [
       "{'bonus': 97343619,\n",
       " 'deferral_payments': 32083396,\n",
       " 'deferred_income': -27992891,\n",
       " 'director_fees': 1398517,\n",
       " 'email_address': 'NaN',\n",
       " 'exercised_stock_options': 311764000,\n",
       " 'expenses': 5235198,\n",
       " 'from_messages': 'NaN',\n",
       " 'from_poi_to_this_person': 'NaN',\n",
       " 'from_this_person_to_poi': 'NaN',\n",
       " 'loan_advances': 83925000,\n",
       " 'long_term_incentive': 48521928,\n",
       " 'other': 42667589,\n",
       " 'poi': False,\n",
       " 'restricted_stock': 130322299,\n",
       " 'restricted_stock_deferred': -7576788,\n",
       " 'salary': 26704229,\n",
       " 'shared_receipt_with_poi': 'NaN',\n",
       " 'to_messages': 'NaN',\n",
       " 'total_payments': 309886585,\n",
       " 'total_stock_value': 434509511}"
      ]
     },
     "execution_count": 11,
     "metadata": {},
     "output_type": "execute_result"
    }
   ],
   "source": [
    "my_dataset.pop('TOTAL',0)"
   ]
  },
  {
   "cell_type": "markdown",
   "metadata": {},
   "source": [
    "And below we see that it has been removed successfully as it no longer appears."
   ]
  },
  {
   "cell_type": "code",
   "execution_count": 12,
   "metadata": {},
   "outputs": [
    {
     "data": {
      "text/plain": [
       "False"
      ]
     },
     "execution_count": 12,
     "metadata": {},
     "output_type": "execute_result"
    }
   ],
   "source": [
    "#if 'TOTAL' in my_dataset:\n",
    "    \n",
    "#my_dataset['TOTAL']\n",
    "'TOTAL' in my_dataset"
   ]
  },
  {
   "cell_type": "markdown",
   "metadata": {},
   "source": [
    "The next step in identifying outliers is to "
   ]
  },
  {
   "cell_type": "code",
   "execution_count": 13,
   "metadata": {},
   "outputs": [
    {
     "data": {
      "text/plain": [
       "{'bonus': 4175000,\n",
       " 'deferral_payments': 2869717,\n",
       " 'deferred_income': -3081055,\n",
       " 'director_fees': 'NaN',\n",
       " 'email_address': 'phillip.allen@enron.com',\n",
       " 'exercised_stock_options': 1729541,\n",
       " 'expenses': 13868,\n",
       " 'from_messages': 2195,\n",
       " 'from_poi_to_this_person': 47,\n",
       " 'from_this_person_to_poi': 65,\n",
       " 'loan_advances': 'NaN',\n",
       " 'long_term_incentive': 304805,\n",
       " 'other': 152,\n",
       " 'poi': False,\n",
       " 'restricted_stock': 126027,\n",
       " 'restricted_stock_deferred': -126027,\n",
       " 'salary': 201955,\n",
       " 'shared_receipt_with_poi': 1407,\n",
       " 'to_messages': 2902,\n",
       " 'total_payments': 4484442,\n",
       " 'total_stock_value': 1729541}"
      ]
     },
     "execution_count": 13,
     "metadata": {},
     "output_type": "execute_result"
    }
   ],
   "source": [
    "my_dataset['ALLEN PHILLIP K']"
   ]
  },
  {
   "cell_type": "code",
   "execution_count": 14,
   "metadata": {},
   "outputs": [],
   "source": [
    "bonus = []\n",
    "deferred_income = []\n",
    "email_address = []\n",
    "exercised_stock_options = []\n",
    "expenses = []\n",
    "from_messages = []\n",
    "from_poi_to_this_person = []\n",
    "from_this_person_to_poi = []\n",
    "long_term_incentive = []\n",
    "other = []\n",
    "restricted_stock = []\n",
    "salary = []\n",
    "shared_receipt_with_poi = []\n",
    "to_messages = []\n",
    "total_payments = []\n",
    "total_stock_value = []\n",
    "for person in my_dataset:\n",
    "    bonus.append(my_dataset[person]['bonus'])\n",
    "    deferred_income.append(my_dataset[person]['deferred_income'])\n",
    "    email_address.append(my_dataset[person]['email_address'])\n",
    "    exercised_stock_options.append(my_dataset[person]['exercised_stock_options'])\n",
    "    expenses.append(my_dataset[person]['expenses'])\n",
    "    from_messages.append(my_dataset[person]['from_messages'])\n",
    "    from_poi_to_this_person.append(my_dataset[person]['from_poi_to_this_person'])\n",
    "    from_this_person_to_poi.append(my_dataset[person]['from_this_person_to_poi'])\n",
    "    long_term_incentive.append(my_dataset[person]['long_term_incentive'])\n",
    "    other.append(my_dataset[person]['other'])\n",
    "    restricted_stock.append(my_dataset[person]['restricted_stock'])\n",
    "    salary.append(my_dataset[person]['salary'])\n",
    "    shared_receipt_with_poi.append(my_dataset[person]['shared_receipt_with_poi'])\n",
    "    to_messages.append(my_dataset[person]['to_messages'])\n",
    "    total_payments.append(my_dataset[person]['total_payments'])\n",
    "    total_stock_value.append(my_dataset[person]['total_stock_value'])"
   ]
  },
  {
   "cell_type": "code",
   "execution_count": 15,
   "metadata": {},
   "outputs": [],
   "source": [
    "import seaborn as sns\n",
    "import matplotlib.pyplot as plt"
   ]
  },
  {
   "cell_type": "code",
   "execution_count": 16,
   "metadata": {},
   "outputs": [
    {
     "data": {
      "image/png": "[encoded data removed]",
      "text/plain": [
       "<Figure size 432x288 with 1 Axes>"
      ]
     },
     "metadata": {
      "needs_background": "light"
     },
     "output_type": "display_data"
    }
   ],
   "source": [
    "sns.boxplot(data=bonus);"
   ]
  },
  {
   "cell_type": "code",
   "execution_count": 17,
   "metadata": {},
   "outputs": [
    {
     "data": {
      "image/png": "[encoded data removed]",
      "text/plain": [
       "<Figure size 432x288 with 1 Axes>"
      ]
     },
     "metadata": {
      "needs_background": "light"
     },
     "output_type": "display_data"
    }
   ],
   "source": [
    "sns.boxplot(data=deferred_income);"
   ]
  },
  {
   "cell_type": "code",
   "execution_count": 18,
   "metadata": {},
   "outputs": [
    {
     "data": {
      "image/png": "[encoded data removed]",
      "text/plain": [
       "<Figure size 432x288 with 1 Axes>"
      ]
     },
     "metadata": {
      "needs_background": "light"
     },
     "output_type": "display_data"
    }
   ],
   "source": [
    "sns.boxplot(data=exercised_stock_options);"
   ]
  },
  {
   "cell_type": "code",
   "execution_count": 19,
   "metadata": {},
   "outputs": [
    {
     "data": {
      "image/png": "[encoded data removed]",
      "text/plain": [
       "<Figure size 432x288 with 1 Axes>"
      ]
     },
     "metadata": {
      "needs_background": "light"
     },
     "output_type": "display_data"
    }
   ],
   "source": [
    "sns.boxplot(data=expenses);"
   ]
  },
  {
   "cell_type": "code",
   "execution_count": 20,
   "metadata": {},
   "outputs": [
    {
     "data": {
      "image/png": "[encoded data removed]",
      "text/plain": [
       "<Figure size 432x288 with 1 Axes>"
      ]
     },
     "metadata": {
      "needs_background": "light"
     },
     "output_type": "display_data"
    }
   ],
   "source": [
    "sns.boxplot(data=from_messages);"
   ]
  },
  {
   "cell_type": "code",
   "execution_count": 21,
   "metadata": {},
   "outputs": [
    {
     "data": {
      "image/png": "[encoded data removed]",
      "text/plain": [
       "<Figure size 432x288 with 1 Axes>"
      ]
     },
     "metadata": {
      "needs_background": "light"
     },
     "output_type": "display_data"
    }
   ],
   "source": [
    "sns.boxplot(data=from_poi_to_this_person);"
   ]
  },
  {
   "cell_type": "code",
   "execution_count": 22,
   "metadata": {},
   "outputs": [
    {
     "data": {
      "image/png": "[encoded data removed]",
      "text/plain": [
       "<Figure size 432x288 with 1 Axes>"
      ]
     },
     "metadata": {
      "needs_background": "light"
     },
     "output_type": "display_data"
    }
   ],
   "source": [
    "sns.boxplot(data=from_this_person_to_poi);"
   ]
  },
  {
   "cell_type": "code",
   "execution_count": 23,
   "metadata": {},
   "outputs": [
    {
     "data": {
      "image/png": "[encoded data removed]",
      "text/plain": [
       "<Figure size 432x288 with 1 Axes>"
      ]
     },
     "metadata": {
      "needs_background": "light"
     },
     "output_type": "display_data"
    }
   ],
   "source": [
    "sns.boxplot(data=long_term_incentive);"
   ]
  },
  {
   "cell_type": "code",
   "execution_count": 24,
   "metadata": {},
   "outputs": [
    {
     "data": {
      "image/png": "[encoded data removed]",
      "text/plain": [
       "<Figure size 432x288 with 1 Axes>"
      ]
     },
     "metadata": {
      "needs_background": "light"
     },
     "output_type": "display_data"
    }
   ],
   "source": [
    "sns.boxplot(data=other);"
   ]
  },
  {
   "cell_type": "code",
   "execution_count": 25,
   "metadata": {},
   "outputs": [
    {
     "data": {
      "image/png": "[encoded data removed]",
      "text/plain": [
       "<Figure size 432x288 with 1 Axes>"
      ]
     },
     "metadata": {
      "needs_background": "light"
     },
     "output_type": "display_data"
    }
   ],
   "source": [
    "sns.boxplot(data=restricted_stock);"
   ]
  },
  {
   "cell_type": "code",
   "execution_count": 26,
   "metadata": {},
   "outputs": [
    {
     "data": {
      "image/png": "[encoded data removed]",
      "text/plain": [
       "<Figure size 432x288 with 1 Axes>"
      ]
     },
     "metadata": {
      "needs_background": "light"
     },
     "output_type": "display_data"
    }
   ],
   "source": [
    "sns.boxplot(data=salary);"
   ]
  },
  {
   "cell_type": "code",
   "execution_count": 27,
   "metadata": {},
   "outputs": [
    {
     "data": {
      "image/png": "[encoded data removed]",
      "text/plain": [
       "<Figure size 432x288 with 1 Axes>"
      ]
     },
     "metadata": {
      "needs_background": "light"
     },
     "output_type": "display_data"
    }
   ],
   "source": [
    "sns.boxplot(data=shared_receipt_with_poi);"
   ]
  },
  {
   "cell_type": "code",
   "execution_count": 28,
   "metadata": {},
   "outputs": [
    {
     "data": {
      "image/png": "[encoded data removed]",
      "text/plain": [
       "<Figure size 432x288 with 1 Axes>"
      ]
     },
     "metadata": {
      "needs_background": "light"
     },
     "output_type": "display_data"
    }
   ],
   "source": [
    "sns.boxplot(data=to_messages);"
   ]
  },
  {
   "cell_type": "code",
   "execution_count": 29,
   "metadata": {},
   "outputs": [
    {
     "data": {
      "image/png": "[encoded data removed]",
      "text/plain": [
       "<Figure size 432x288 with 1 Axes>"
      ]
     },
     "metadata": {
      "needs_background": "light"
     },
     "output_type": "display_data"
    }
   ],
   "source": [
    "sns.boxplot(data=total_payments);"
   ]
  },
  {
   "cell_type": "code",
   "execution_count": 30,
   "metadata": {},
   "outputs": [
    {
     "data": {
      "image/png": "[encoded data removed]",
      "text/plain": [
       "<Figure size 432x288 with 1 Axes>"
      ]
     },
     "metadata": {
      "needs_background": "light"
     },
     "output_type": "display_data"
    }
   ],
   "source": [
    "sns.boxplot(data=total_stock_value);"
   ]
  },
  {
   "cell_type": "markdown",
   "metadata": {},
   "source": [
    "Below we look at some of the points that show as possible outliers from the boxplots shown above. "
   ]
  },
  {
   "cell_type": "code",
   "execution_count": 31,
   "metadata": {},
   "outputs": [
    {
     "name": "stdout",
     "output_type": "stream",
     "text": [
      "LAY KENNETH L\n"
     ]
    }
   ],
   "source": [
    "for people in my_dataset:\n",
    "    if (my_dataset[people]['total_payments'] > 1e8) & (my_dataset[people]['total_payments'] !='NaN'):\n",
    "        print people"
   ]
  },
  {
   "cell_type": "code",
   "execution_count": 32,
   "metadata": {},
   "outputs": [
    {
     "name": "stdout",
     "output_type": "stream",
     "text": [
      "LAY KENNETH L\n"
     ]
    }
   ],
   "source": [
    "for people in my_dataset:\n",
    "    if (my_dataset[people]['total_stock_value'] > 4e7) & (my_dataset[people]['total_stock_value'] !='NaN'):\n",
    "        print people"
   ]
  },
  {
   "cell_type": "code",
   "execution_count": 33,
   "metadata": {},
   "outputs": [
    {
     "name": "stdout",
     "output_type": "stream",
     "text": [
      "SHAPIRO RICHARD S\n",
      "KEAN STEVEN J\n"
     ]
    }
   ],
   "source": [
    "for people in my_dataset:\n",
    "    if (my_dataset[people]['to_messages'] > 10000) & (my_dataset[people]['to_messages'] !='NaN'):\n",
    "        print people"
   ]
  },
  {
   "cell_type": "code",
   "execution_count": 34,
   "metadata": {},
   "outputs": [
    {
     "name": "stdout",
     "output_type": "stream",
     "text": [
      "SHAPIRO RICHARD S\n",
      "BELDEN TIMOTHY N\n"
     ]
    }
   ],
   "source": [
    "for people in my_dataset:\n",
    "    if (my_dataset[people]['shared_receipt_with_poi'] > 4000) & (my_dataset[people]['shared_receipt_with_poi'] !='NaN'):\n",
    "        print people"
   ]
  },
  {
   "cell_type": "code",
   "execution_count": 35,
   "metadata": {},
   "outputs": [
    {
     "name": "stdout",
     "output_type": "stream",
     "text": [
      "LAY KENNETH L\n",
      "SKILLING JEFFREY K\n",
      "FREVERT MARK A\n"
     ]
    }
   ],
   "source": [
    "for people in my_dataset:\n",
    "    if (my_dataset[people]['salary'] > 800000) & (my_dataset[people]['salary'] !='NaN'):\n",
    "        print people"
   ]
  },
  {
   "cell_type": "code",
   "execution_count": 36,
   "metadata": {},
   "outputs": [
    {
     "name": "stdout",
     "output_type": "stream",
     "text": [
      "BHATNAGAR SANJAY\n"
     ]
    }
   ],
   "source": [
    "for people in my_dataset:\n",
    "    if (my_dataset[people]['restricted_stock'] < 0) & (my_dataset[people]['restricted_stock'] !='NaN'):\n",
    "        print people"
   ]
  },
  {
   "cell_type": "code",
   "execution_count": 37,
   "metadata": {},
   "outputs": [
    {
     "name": "stdout",
     "output_type": "stream",
     "text": [
      "LAY KENNETH L\n",
      "FREVERT MARK A\n"
     ]
    }
   ],
   "source": [
    "for people in my_dataset:\n",
    "    if (my_dataset[people]['other'] > 0.6e7) & (my_dataset[people]['other'] !='NaN'):\n",
    "        print people"
   ]
  },
  {
   "cell_type": "code",
   "execution_count": 38,
   "metadata": {},
   "outputs": [
    {
     "name": "stdout",
     "output_type": "stream",
     "text": [
      "LAY KENNETH L\n",
      "MARTIN AMANDA K\n"
     ]
    }
   ],
   "source": [
    "for people in my_dataset:\n",
    "    if (my_dataset[people]['long_term_incentive'] > 3000000) & (my_dataset[people]['long_term_incentive'] !='NaN'):\n",
    "        print people"
   ]
  },
  {
   "cell_type": "code",
   "execution_count": 39,
   "metadata": {},
   "outputs": [
    {
     "name": "stdout",
     "output_type": "stream",
     "text": [
      "BECK SALLY W\n",
      "LAVORATO JOHN J\n",
      "DELAINEY DAVID W\n",
      "KEAN STEVEN J\n"
     ]
    }
   ],
   "source": [
    "for people in my_dataset:\n",
    "    if (my_dataset[people]['from_this_person_to_poi'] > 300) & (my_dataset[people]['from_this_person_to_poi'] !='NaN'):\n",
    "        print people"
   ]
  },
  {
   "cell_type": "code",
   "execution_count": 40,
   "metadata": {},
   "outputs": [
    {
     "name": "stdout",
     "output_type": "stream",
     "text": [
      "LAVORATO JOHN J\n",
      "DIETRICH JANET R\n"
     ]
    }
   ],
   "source": [
    "for people in my_dataset:\n",
    "    if (my_dataset[people]['from_poi_to_this_person'] > 300) & (my_dataset[people]['from_poi_to_this_person'] !='NaN'):\n",
    "        print people"
   ]
  },
  {
   "cell_type": "code",
   "execution_count": 41,
   "metadata": {},
   "outputs": [
    {
     "name": "stdout",
     "output_type": "stream",
     "text": [
      "KAMINSKI WINCENTY J\n"
     ]
    }
   ],
   "source": [
    "for people in my_dataset:\n",
    "    if (my_dataset[people]['from_messages'] > 8000) & (my_dataset[people]['from_messages'] !='NaN'):\n",
    "        print people"
   ]
  },
  {
   "cell_type": "code",
   "execution_count": 42,
   "metadata": {},
   "outputs": [
    {
     "name": "stdout",
     "output_type": "stream",
     "text": [
      "SHANKMAN JEFFREY A\n",
      "URQUHART JOHN A\n",
      "MCCLELLAN GEORGE\n"
     ]
    }
   ],
   "source": [
    "for people in my_dataset:\n",
    "    if (my_dataset[people]['expenses'] > 150000) & (my_dataset[people]['expenses'] !='NaN'):\n",
    "        print people"
   ]
  },
  {
   "cell_type": "code",
   "execution_count": 43,
   "metadata": {},
   "outputs": [
    {
     "name": "stdout",
     "output_type": "stream",
     "text": [
      "LAY KENNETH L\n",
      "HIRKO JOSEPH\n"
     ]
    }
   ],
   "source": [
    "for people in my_dataset:\n",
    "    if (my_dataset[people]['exercised_stock_options'] > 2.5e7) & (my_dataset[people]['exercised_stock_options'] !='NaN'):\n",
    "        print people"
   ]
  },
  {
   "cell_type": "markdown",
   "metadata": {},
   "source": [
    "After digging deeper into the dataset and the people identified above. None of these are identified as outliers that have to be elimiated for now in the dataset. Some of them have really high financial values and some high amount of email send and received but in fact these may be the people that we will classify as POIs. High level managers in companies usually have high salaries and bonuses so we don't remove these points for now. However digging deeper into the dataset, we did find that there is a point in the dataset with 'THE TRAVEL AGENCY IN THE PARK' as a person and this makes us think that it is an error in the dataset so we remove this point. "
   ]
  },
  {
   "cell_type": "code",
   "execution_count": 44,
   "metadata": {},
   "outputs": [
    {
     "data": {
      "text/plain": [
       "{'bonus': 'NaN',\n",
       " 'deferral_payments': 'NaN',\n",
       " 'deferred_income': 'NaN',\n",
       " 'director_fees': 'NaN',\n",
       " 'email_address': 'NaN',\n",
       " 'exercised_stock_options': 'NaN',\n",
       " 'expenses': 'NaN',\n",
       " 'from_messages': 'NaN',\n",
       " 'from_poi_to_this_person': 'NaN',\n",
       " 'from_this_person_to_poi': 'NaN',\n",
       " 'loan_advances': 'NaN',\n",
       " 'long_term_incentive': 'NaN',\n",
       " 'other': 362096,\n",
       " 'poi': False,\n",
       " 'restricted_stock': 'NaN',\n",
       " 'restricted_stock_deferred': 'NaN',\n",
       " 'salary': 'NaN',\n",
       " 'shared_receipt_with_poi': 'NaN',\n",
       " 'to_messages': 'NaN',\n",
       " 'total_payments': 362096,\n",
       " 'total_stock_value': 'NaN'}"
      ]
     },
     "execution_count": 44,
     "metadata": {},
     "output_type": "execute_result"
    }
   ],
   "source": [
    "my_dataset.pop('THE TRAVEL AGENCY IN THE PARK',0)"
   ]
  },
  {
   "cell_type": "markdown",
   "metadata": {},
   "source": [
    "And we see below that it has been deleted from the the enron dataset."
   ]
  },
  {
   "cell_type": "code",
   "execution_count": 45,
   "metadata": {},
   "outputs": [
    {
     "data": {
      "text/plain": [
       "False"
      ]
     },
     "execution_count": 45,
     "metadata": {},
     "output_type": "execute_result"
    }
   ],
   "source": [
    "'THE TRAVEL AGENCY IN THE PARK' in my_dataset"
   ]
  },
  {
   "cell_type": "markdown",
   "metadata": {},
   "source": [
    "## Feature Selection"
   ]
  },
  {
   "cell_type": "markdown",
   "metadata": {},
   "source": [
    "### Creating New Features"
   ]
  },
  {
   "cell_type": "markdown",
   "metadata": {},
   "source": [
    "Like conducted in the Feature Selection part of this course, we use our human intuition to understand what features may be relevant to distiniguish a POI from a non-POI. So regarding the email data that we have instead of using from_this_person_to_poi and from poi_to_this_person, we create fraction features that tell us how many of the total emails send correpsond to and from POI which is a variable that at a first glance seems much more poweful than just the amount of emails send to and from POIs. "
   ]
  },
  {
   "cell_type": "markdown",
   "metadata": {},
   "source": [
    "So as done in Lesson 12: Feature Selection course, we define the following two features.\n",
    "\n",
    "__fraction_to_this_person_from_poi__ = from_poi_to_this_person/to_messages <br>\n",
    "__fraction_from_this_person_to_poi__ = from_this_person_to_poi/from_messages\n",
    "\n"
   ]
  },
  {
   "cell_type": "markdown",
   "metadata": {},
   "source": [
    "At this stage we realize that the only other email data we have, is the shared_receipt_with_poi feature, and that the same way we will also create a feature which is a fraction of this number with the to_messages feature since the shared_receipt_with_poi fewature defines the number of received messaged that also were send to POIs. \n",
    "\n",
    "New feature:\n",
    "\n",
    "__fraction_shared_receipt_with_poi__ = shared_receipt_with_poi/to_messages"
   ]
  },
  {
   "cell_type": "markdown",
   "metadata": {},
   "source": [
    "The above new features are the ones that make sense in terms of the email data that is in the dataset. However, with regards to the features regarding the financial data, we see that in the box plots we have some people with really high financial informaiton. Now using our judgment, these high salaries correspond to real people and they don't seem to be error points if not important people in the company receving high sums of money. An interesting feature however may be to look at the ratio of some of the financial figures like for example bonus / salary. It is normal that someone with a high salary receives a large amount of bonus. However what could help us to identify suspisious behaviour and therefore potential POIs is if the ratio of the two is higher than usual. \n",
    "\n",
    "Therefore with regards to the financial features we create new features being the ratio of the feature with the salary:\n",
    "\n",
    "__ratio_bonus_salary__ = bonus/salary<br>\n",
    "__ratio_total_stock_value_salary__ = total_stock_value/salary<br>\n",
    "__ratio_total_payments_salary__ = total_payments/salary<br>\n",
    "__ratio_deferred_income_salary__ = deferred_income/salary<br>\n",
    "__ratio_other_salary__ = other/salary<br>\n",
    "__ratio_long_term_incentive_salary__ = long_term_incentive/salary<br>\n",
    "__ratio_expenses_salary__ = expenses/salary<br>\n",
    "__ratio_exercised_stock_options_salary__ = exercised_stock_options/salary<br>\n",
    "__ratio_restricted_stock_salary__ = restricted_stock/salary<br>\n",
    "\n"
   ]
  },
  {
   "cell_type": "markdown",
   "metadata": {},
   "source": [
    "Now in order to choose the best features, we have automatic methods that fall under the umbrella of univariate feature selection to identify how good the features will be for our POI classifier. "
   ]
  },
  {
   "cell_type": "code",
   "execution_count": 46,
   "metadata": {},
   "outputs": [],
   "source": [
    "from sklearn.feature_selection import SelectPercentile, SelectKBest, f_classif"
   ]
  },
  {
   "cell_type": "markdown",
   "metadata": {},
   "source": [
    "So to find out what are the best features, we first need to add the above defined features in our dataset as a feature. "
   ]
  },
  {
   "cell_type": "code",
   "execution_count": 47,
   "metadata": {},
   "outputs": [],
   "source": [
    "def add_features_ratio(my_dataset,new_feature, feature_nominator, feature_denominator):\n",
    "    for person in my_dataset:\n",
    "        if (my_dataset[person][feature_nominator] !='NaN') & (my_dataset[person][feature_denominator] !='NaN'):\n",
    "            my_dataset[person][new_feature] = my_dataset[person][feature_nominator] / my_dataset[person][feature_denominator]\n",
    "        else:\n",
    "            my_dataset[person][new_feature] = 'NaN'"
   ]
  },
  {
   "cell_type": "code",
   "execution_count": 83,
   "metadata": {},
   "outputs": [],
   "source": [
    "add_features_ratio(my_dataset=my_dataset, new_feature='fraction_from_this_person_to_poi', feature_nominator='from_this_person_to_poi', feature_denominator='from_messages')\n",
    "add_features_ratio(my_dataset=my_dataset, new_feature='fraction_to_this_person_from_poi', feature_nominator='from_poi_to_this_person', feature_denominator='to_messages')\n",
    "add_features_ratio(my_dataset=my_dataset, new_feature='fraction_shared_receipt_with_poi', feature_nominator='shared_receipt_with_poi', feature_denominator='to_messages')\n",
    "add_features_ratio(my_dataset=my_dataset, new_feature='ratio_bonus_salary', feature_nominator='bonus', feature_denominator='salary')\n",
    "add_features_ratio(my_dataset=my_dataset, new_feature='ratio_total_stock_value_salary', feature_nominator='total_stock_value', feature_denominator='salary')\n",
    "add_features_ratio(my_dataset=my_dataset, new_feature='ratio_total_payments_salary', feature_nominator='total_payments', feature_denominator='salary')\n",
    "add_features_ratio(my_dataset=my_dataset, new_feature='ratio_deferred_income_salary', feature_nominator='deferred_income', feature_denominator='salary')\n",
    "add_features_ratio(my_dataset=my_dataset, new_feature='ratio_other_salary', feature_nominator='other', feature_denominator='salary')\n",
    "add_features_ratio(my_dataset=my_dataset, new_feature='ratio_long_term_incentive_salary', feature_nominator='long_term_incentive', feature_denominator='salary')\n",
    "add_features_ratio(my_dataset=my_dataset, new_feature='ratio_expenses_salary', feature_nominator='expenses', feature_denominator='salary')\n",
    "add_features_ratio(my_dataset=my_dataset, new_feature='ratio_exercised_stock_options_salary', feature_nominator='exercised_stock_options', feature_denominator='salary')\n",
    "add_features_ratio(my_dataset=my_dataset, new_feature='ratio_restricted_stock_salary', feature_nominator='restricted_stock', feature_denominator='salary')\n"
   ]
  },
  {
   "cell_type": "markdown",
   "metadata": {},
   "source": [
    "For this we first we create a list of all the features in our enron dataset"
   ]
  },
  {
   "cell_type": "code",
   "execution_count": 49,
   "metadata": {},
   "outputs": [],
   "source": [
    "features_analysis = next(my_dataset.itervalues()).keys()"
   ]
  },
  {
   "cell_type": "markdown",
   "metadata": {},
   "source": [
    "Next we remove the features that we found before that we will not look in our analysis due to lack of information."
   ]
  },
  {
   "cell_type": "code",
   "execution_count": 50,
   "metadata": {},
   "outputs": [],
   "source": [
    "#features_to_exclude = ['deferral_payments','loan_advances','restricted_stock_deferred', 'director_fees', 'email_address', 'poi']"
   ]
  },
  {
   "cell_type": "code",
   "execution_count": 51,
   "metadata": {},
   "outputs": [
    {
     "ename": "NameError",
     "evalue": "name 'features_to_exclude' is not defined",
     "output_type": "error",
     "traceback": [
      "\u001b[1;31m---------------------------------------------------------------------------\u001b[0m",
      "\u001b[1;31mNameError\u001b[0m                                 Traceback (most recent call last)",
      "\u001b[1;32m<ipython-input-51-4dff9a553421>\u001b[0m in \u001b[0;36m<module>\u001b[1;34m()\u001b[0m\n\u001b[1;32m----> 1\u001b[1;33m \u001b[1;32mfor\u001b[0m \u001b[0mexclude\u001b[0m \u001b[1;32min\u001b[0m \u001b[0mfeatures_to_exclude\u001b[0m\u001b[1;33m:\u001b[0m\u001b[1;33m\u001b[0m\u001b[0m\n\u001b[0m\u001b[0;32m      2\u001b[0m     \u001b[0mfeatures_analysis\u001b[0m\u001b[1;33m.\u001b[0m\u001b[0mremove\u001b[0m\u001b[1;33m(\u001b[0m\u001b[0mexclude\u001b[0m\u001b[1;33m)\u001b[0m\u001b[1;33m\u001b[0m\u001b[0m\n\u001b[0;32m      3\u001b[0m \u001b[1;33m\u001b[0m\u001b[0m\n",
      "\u001b[1;31mNameError\u001b[0m: name 'features_to_exclude' is not defined"
     ]
    }
   ],
   "source": [
    "for exclude in features_to_exclude:\n",
    "    features_analysis.remove(exclude)\n",
    "    "
   ]
  },
  {
   "cell_type": "code",
   "execution_count": 52,
   "metadata": {},
   "outputs": [],
   "source": [
    "features_analysis.remove('poi')"
   ]
  },
  {
   "cell_type": "markdown",
   "metadata": {},
   "source": [
    "Next we add the features in this list that we defined above which are ratios of financial and email features.  "
   ]
  },
  {
   "cell_type": "code",
   "execution_count": 53,
   "metadata": {},
   "outputs": [
    {
     "data": {
      "text/plain": [
       "['poi',\n",
       " 'to_messages',\n",
       " 'deferral_payments',\n",
       " 'expenses',\n",
       " 'deferred_income',\n",
       " 'email_address',\n",
       " 'long_term_incentive',\n",
       " 'ratio_expenses_salary',\n",
       " 'ratio_long_term_incentive_salary',\n",
       " 'ratio_other_salary',\n",
       " 'ratio_restricted_stock_salary',\n",
       " 'restricted_stock_deferred',\n",
       " 'shared_receipt_with_poi',\n",
       " 'loan_advances',\n",
       " 'from_messages',\n",
       " 'other',\n",
       " 'director_fees',\n",
       " 'ratio_exercised_stock_options_salary',\n",
       " 'ratio_bonus_salary',\n",
       " 'ratio_deferred_income_salary',\n",
       " 'fraction_shared_receipt_with_poi',\n",
       " 'bonus',\n",
       " 'total_stock_value',\n",
       " 'from_poi_to_this_person',\n",
       " 'from_this_person_to_poi',\n",
       " 'ratio_total_stock_value_salary',\n",
       " 'restricted_stock',\n",
       " 'fraction_from_this_person_to_poi',\n",
       " 'salary',\n",
       " 'ratio_total_payments_salary',\n",
       " 'total_payments',\n",
       " 'exercised_stock_options',\n",
       " 'fraction_to_this_person_from_poi']"
      ]
     },
     "execution_count": 53,
     "metadata": {},
     "output_type": "execute_result"
    }
   ],
   "source": [
    "features_analysis_poi_first = ['poi'] + features_analysis\n",
    "features_analysis_poi_first"
   ]
  },
  {
   "cell_type": "code",
   "execution_count": 63,
   "metadata": {},
   "outputs": [],
   "source": [
    "features_list_all = ['poi',\n",
    " 'salary',\n",
    " 'to_messages',\n",
    " 'deferral_payments',\n",
    " 'total_payments',\n",
    " 'fraction_shared_receipt_with_poi',\n",
    " 'exercised_stock_options',\n",
    " 'bonus',\n",
    " 'restricted_stock',\n",
    " 'shared_receipt_with_poi',\n",
    " 'fraction_from_this_person_to_poi',\n",
    " 'restricted_stock_deferred',\n",
    " 'total_stock_value',\n",
    " 'expenses',\n",
    " 'loan_advances',\n",
    " 'from_messages',\n",
    " 'other',\n",
    " 'from_this_person_to_poi',\n",
    " 'director_fees',\n",
    " 'deferred_income',\n",
    " 'long_term_incentive',\n",
    " 'from_poi_to_this_person']"
   ]
  },
  {
   "cell_type": "code",
   "execution_count": 72,
   "metadata": {},
   "outputs": [
    {
     "data": {
      "text/plain": [
       "list"
      ]
     },
     "execution_count": 72,
     "metadata": {},
     "output_type": "execute_result"
    }
   ],
   "source": [
    "del feature_array\n",
    "feature_array = range(1,len(features_list_all))\n",
    "type (feature_array)"
   ]
  },
  {
   "cell_type": "code",
   "execution_count": 81,
   "metadata": {},
   "outputs": [],
   "source": [
    "import sys\n",
    "sys.path.append(\"../tools/\")\n",
    "import pickle\n",
    "import pandas as pd\n",
    "import numpy as np\n",
    "import matplotlib as plt\n",
    "from sklearn.model_selection import train_test_split, StratifiedShuffleSplit, GridSearchCV\n",
    "from sklearn.naive_bayes import GaussianNB\n",
    "from time import time\n",
    "from sklearn.metrics import accuracy_score, precision_score, recall_score, f1_score\n",
    "from pprint import pprint\n",
    "from feature_format import featureFormat, targetFeatureSplit\n",
    "from tester import dump_classifier_and_data\n",
    "from sklearn.feature_selection import SelectKBest, f_classif\n",
    "from sklearn.pipeline import Pipeline\n",
    "from sklearn.neighbors import KNeighborsClassifier\n",
    "from sklearn.preprocessing import MinMaxScaler\n",
    "from sklearn.naive_bayes import GaussianNB\n",
    "from sklearn.tree import DecisionTreeClassifier"
   ]
  },
  {
   "cell_type": "code",
   "execution_count": 84,
   "metadata": {},
   "outputs": [],
   "source": [
    "data = featureFormat(my_dataset, features_list_all, sort_keys = True)\n",
    "labels, features = targetFeatureSplit(data)\n"
   ]
  },
  {
   "cell_type": "code",
   "execution_count": 85,
   "metadata": {},
   "outputs": [
    {
     "name": "stdout",
     "output_type": "stream",
     "text": [
      "[(16.873870264572993, 'fraction_from_this_person_to_poi'),\n",
      " (9.49145795071451, 'fraction_shared_receipt_with_poi'),\n",
      " (8.903821557165571, 'shared_receipt_with_poi'),\n",
      " (5.446687483325353, 'from_poi_to_this_person'),\n",
      " (2.5182610445203437, 'loan_advances'),\n",
      " (2.470521222656084, 'from_this_person_to_poi'),\n",
      " (1.7516942790340737, 'to_messages'),\n",
      " (0.5490842014798087, 'director_fees'),\n",
      " (0.3496271530428018, 'total_payments'),\n",
      " (0.23899588985313305, 'deferral_payments'),\n",
      " (0.22826733729104948, 'exercised_stock_options'),\n",
      " (0.21950572394230994, 'deferred_income'),\n",
      " (0.16611912320976677, 'total_stock_value'),\n",
      " (0.1587702392129193, 'from_messages'),\n",
      " (0.07794885577722988, 'bonus'),\n",
      " (0.06819451915955863, 'other'),\n",
      " (0.031333216297618476, 'restricted_stock'),\n",
      " (0.022229270861607336, 'long_term_incentive'),\n",
      " (0.01397841382175243, 'expenses'),\n",
      " (0.004173192280508668, 'restricted_stock_deferred'),\n",
      " (0.000160054245696184, 'salary')]\n"
     ]
    }
   ],
   "source": [
    "selector = SelectKBest(score_func=f_classif, k=5)\n",
    "selector.fit(features, labels)\n",
    "pprint(sorted(zip(selector.scores_, features_list_all[1:]), reverse=True))\n"
   ]
  },
  {
   "cell_type": "code",
   "execution_count": 60,
   "metadata": {},
   "outputs": [
    {
     "ename": "NameError",
     "evalue": "name 'labels' is not defined",
     "output_type": "error",
     "traceback": [
      "\u001b[1;31m---------------------------------------------------------------------------\u001b[0m",
      "\u001b[1;31mNameError\u001b[0m                                 Traceback (most recent call last)",
      "\u001b[1;32m<ipython-input-60-d05d1f583c9c>\u001b[0m in \u001b[0;36m<module>\u001b[1;34m()\u001b[0m\n\u001b[0;32m     21\u001b[0m \u001b[1;33m\u001b[0m\u001b[0m\n\u001b[0;32m     22\u001b[0m     \u001b[0mparam_grid_GaussianNB\u001b[0m \u001b[1;33m=\u001b[0m \u001b[1;33m{\u001b[0m\u001b[1;34m\"SKB__k\"\u001b[0m\u001b[1;33m:\u001b[0m \u001b[0mfeatures\u001b[0m\u001b[1;33m}\u001b[0m\u001b[1;33m\u001b[0m\u001b[0m\n\u001b[1;32m---> 23\u001b[1;33m     \u001b[0mclf_Gaussian_best\u001b[0m\u001b[1;33m,\u001b[0m \u001b[0mf1score_GaussianNB\u001b[0m \u001b[1;33m=\u001b[0m \u001b[0moptimal_feature_estimator\u001b[0m\u001b[1;33m(\u001b[0m\u001b[0mpipeline\u001b[0m\u001b[1;33m=\u001b[0m\u001b[0mpipeline_GaussianNB\u001b[0m\u001b[1;33m,\u001b[0m \u001b[0mparam_grid\u001b[0m\u001b[1;33m=\u001b[0m\u001b[0mparam_grid_GaussianNB\u001b[0m\u001b[1;33m,\u001b[0m \u001b[0msss\u001b[0m\u001b[1;33m=\u001b[0m\u001b[0msss\u001b[0m\u001b[1;33m,\u001b[0m \u001b[0mfeatures\u001b[0m\u001b[1;33m=\u001b[0m\u001b[0mfeatures\u001b[0m\u001b[1;33m,\u001b[0m \u001b[0mlabels\u001b[0m\u001b[1;33m=\u001b[0m\u001b[0mlabels\u001b[0m\u001b[1;33m)\u001b[0m\u001b[1;33m\u001b[0m\u001b[0m\n\u001b[0m\u001b[0;32m     24\u001b[0m     \u001b[0mf1_score\u001b[0m\u001b[1;33m.\u001b[0m\u001b[0mappend\u001b[0m\u001b[1;33m(\u001b[0m\u001b[0mf1score_GaussianNB\u001b[0m\u001b[1;33m)\u001b[0m\u001b[1;33m\u001b[0m\u001b[0m\n\u001b[0;32m     25\u001b[0m     \u001b[1;32mprint\u001b[0m \u001b[1;34m'scores Gaussian NB'\u001b[0m\u001b[1;33m,\u001b[0m \u001b[0mscores_Gaussian_NB\u001b[0m\u001b[1;33m\u001b[0m\u001b[0m\n",
      "\u001b[1;31mNameError\u001b[0m: name 'labels' is not defined"
     ]
    }
   ],
   "source": [
    "def optimal_feature_estimator(pipeline, param_grid, sss, features, labels):\n",
    "    grid = GridSearchCV(pipeline, param_grid, verbose = 0, cv = sss, scoring = 'f1')\n",
    "    t0 = time()\n",
    "    grid.fit(features, labels)\n",
    "    print \"training time: \", round(time()-t0, 3), \"s\"\n",
    "    print grid.best_params_\n",
    "    return grid.best_estimator_, grid.best_score_ \n",
    "\n",
    "skb = SelectKBest(f_classif)\n",
    "clf_gaussian_NB = GaussianNB()\n",
    "pipeline_GaussianNB = Pipeline(steps = [(\"SKB\", skb), (\"NaiveBayes\",clf_gaussian_NB)])\n",
    "f1_score = []\n",
    "feature_array = np.arange(1,len(features_list_all))\n",
    "sss = StratifiedShuffleSplit(n_splits=100, test_size=0.3, random_state=32)\n",
    "skb = SelectKBest(f_classif)\n",
    "for features in feature_array:\n",
    "    # ##Algorithm 1 GaussianNaive Bayes\n",
    "    clf_gaussian_NB = GaussianNB()\n",
    "    clf = SelectKBest(k=features)\n",
    "    clf.fit\n",
    "    \n",
    "    param_grid_GaussianNB = {\"SKB__k\": features}\n",
    "    clf_Gaussian_best, f1score_GaussianNB = optimal_feature_estimator(pipeline=pipeline_GaussianNB, param_grid=param_grid_GaussianNB, sss=sss, features=features, labels=labels)\n",
    "    f1_score.append(f1score_GaussianNB)\n",
    "    print 'scores Gaussian NB', scores_Gaussian_NB"
   ]
  },
  {
   "cell_type": "code",
   "execution_count": null,
   "metadata": {},
   "outputs": [],
   "source": [
    "f1_score = []\n",
    "sss = StratifiedShuffleSplit(n_splits=100, test_size=0.3, random_state=32)\n",
    "\n",
    "param_grid_GaussianNB = {\"SKB__k\":[3,4,5,6,7,8,9,10,11,12,13,14,15,16,17,18,19]}\n",
    "clf_Gaussian_best, f1score_GaussianNB = optimal_feature_estimator(pipeline=pipeline_GaussianNB, param_grid=param_grid_GaussianNB, sss=sss, features=features, labels=labels)\n",
    "f1_score.append(f1score_GaussianNB)\n",
    "print 'scores Gaussian NB', f1score_GaussianNB"
   ]
  },
  {
   "cell_type": "code",
   "execution_count": null,
   "metadata": {},
   "outputs": [],
   "source": [
    "range(1,len(f)"
   ]
  },
  {
   "cell_type": "code",
   "execution_count": null,
   "metadata": {},
   "outputs": [],
   "source": [
    "df = pd.DataFrame(0, index=np.arange(1,n_splits), columns=['accuracy_score','precision','recall','f1_score'])\n",
    "df.index.name = 'n_split'\n",
    "#    sss = StratifiedShuffleSplit(n_splits, test_size, random_state)\n",
    "    for i, (e_train, e_test) in enumerate(sss.split(features, labels)):\n",
    "        features_test = []\n",
    "        labels_test = []\n",
    "        features_train = []\n",
    "        labels_train = []\n",
    "        for k in e_train:\n",
    "            labels_train.append(labels[k])\n",
    "            features_train.append(features[k])\n",
    "        for k in e_test:\n",
    "            labels_test.append(labels[k])\n",
    "            features_test.append(features[k])\n",
    "        clf.fit(features_train,labels_train)\n",
    "        prediction = clf.predict(features_test)\n",
    "        df.loc[i,'accuracy_score'] = accuracy_score(labels_test, prediction)\n",
    "        df.loc[i,'precision'] = precision_score(labels_test, prediction)\n",
    "        df.loc[i,'recall'] = recall_score(labels_test, prediction)\n",
    "        df.loc[i,'f1_score'] = f1_score(labels_test, prediction)"
   ]
  },
  {
   "cell_type": "code",
   "execution_count": null,
   "metadata": {},
   "outputs": [],
   "source": [
    "def add_features_ratio(my_dataset,new_feature, feature_nominator, feature_denominator):\n",
    "    for person in my_dataset:\n",
    "        if (my_dataset[person][feature_nominator] !='NaN') & (my_dataset[person][feature_denominator] !='NaN'):\n",
    "            my_dataset[person][new_feature] = float(my_dataset[person][feature_nominator]) / float(my_dataset[person][feature_denominator])\n",
    "        else:\n",
    "            my_dataset[person][new_feature] = 'NaN'\n",
    "    return my_dataset\n",
    "\n",
    "features_list = ['poi',\n",
    " 'expenses',\n",
    " 'deferred_income',\n",
    " 'long_term_incentive',\n",
    " 'other',\n",
    " 'fraction_shared_receipt_with_poi',\n",
    " 'bonus',\n",
    " 'total_stock_value',\n",
    " 'from_poi_to_this_person',\n",
    " 'restricted_stock',\n",
    " 'fraction_from_this_person_to_poi',\n",
    " 'salary',\n",
    " 'total_payments',\n",
    " 'exercised_stock_options']"
   ]
  },
  {
   "cell_type": "code",
   "execution_count": null,
   "metadata": {},
   "outputs": [],
   "source": [
    "import sys\n",
    "from pprint import pprint\n",
    "from sklearn.feature_selection import SelectPercentile, SelectKBest, f_classif\n",
    "sys.path.append(\"../tools/\")\n",
    "from feature_format import featureFormat, targetFeatureSplit\n",
    "\n",
    "selector = SelectKBest(score_func=f_classif, k=5)\n",
    "data = featureFormat(my_dataset, features_analysis_poi_first, sort_keys = True)\n",
    "labels, features = targetFeatureSplit(data)\n",
    "selector.fit(features, labels)\n",
    "pprint(sorted(zip(selector.scores_, features_analysis_poi_first[1:]), reverse=True))"
   ]
  },
  {
   "cell_type": "markdown",
   "metadata": {},
   "source": [
    "A lot of the above features are ones that have been created in order to look at their scores. Mostly for the financial features new features which consistent of a financial feature ratio to the salary was created but we can see that all of these have very low ratio except for bonu/salary ratio. however bonus and salary by themselves have higher ratio therefore non of the financial new features tested are included.\n",
    "\n",
    "With respect to the email features, ratios of:<br>\n",
    "__fraction_from_this_person_to_poi__ = from_this_person_to_poi/from_messages <br>\n",
    "__fraction_shared_receipt_with_poi__ = shared_receipt_with_poi/to_messages <br>\n",
    "both have better score than the features by themselves and they seem to be interesting features since more than the absolute value of emails received or sent, it seems interesting to look at what ratio are sent to POIs or shared with POIs. Here the scores of the features that will be considered:"
   ]
  },
  {
   "cell_type": "code",
   "execution_count": null,
   "metadata": {},
   "outputs": [],
   "source": [
    "import sys\n",
    "from pprint import pprint\n",
    "from sklearn.feature_selection import SelectPercentile, SelectKBest, f_classif\n",
    "sys.path.append(\"../tools/\")\n",
    "from feature_format import featureFormat, targetFeatureSplit\n",
    "\n",
    "selector = SelectKBest(score_func=f_classif, k=5)\n",
    "data = featureFormat(my_dataset, features_list, sort_keys = True)\n",
    "labels, features = targetFeatureSplit(data)\n",
    "selector.fit(features, labels)\n",
    "pprint(sorted(zip(selector.scores_, features_analysis_poi_first[1:]), reverse=True))"
   ]
  },
  {
   "cell_type": "markdown",
   "metadata": {},
   "source": [
    "Adding all the packages that are needed when implementing the algorithms"
   ]
  },
  {
   "cell_type": "code",
   "execution_count": null,
   "metadata": {},
   "outputs": [],
   "source": [
    "import pandas as pd\n",
    "import numpy as np\n",
    "from sklearn.model_selection import train_test_split, StratifiedShuffleSplit, GridSearchCV\n",
    "from sklearn.naive_bayes import GaussianNB\n",
    "from time import time\n",
    "from sklearn.metrics import accuracy_score, precision_score, recall_score, f1_score\n",
    "from pprint import pprint\n",
    "from feature_format import featureFormat, targetFeatureSplit\n",
    "from tester import dump_classifier_and_data\n",
    "from sklearn.feature_selection import SelectKBest, f_classif\n",
    "from sklearn.pipeline import Pipeline\n",
    "from sklearn.neighbors import KNeighborsClassifier\n",
    "from sklearn.preprocessing import MinMaxScaler\n",
    "from sklearn.naive_bayes import GaussianNB\n",
    "from sklearn.tree import DecisionTreeClassifier"
   ]
  },
  {
   "cell_type": "markdown",
   "metadata": {},
   "source": [
    "Below the two functions created in order to calculate the scores for the optimal features and selecting the estimator that has the most optimal F1 score for a given number of features. "
   ]
  },
  {
   "cell_type": "code",
   "execution_count": null,
   "metadata": {},
   "outputs": [],
   "source": [
    "def optimal_feature_estimator(pipeline, param_grid, sss, features, labels):\n",
    "    grid = GridSearchCV(pipeline, param_grid, verbose = 0, cv = sss, scoring = 'f1')\n",
    "    t0 = time()\n",
    "    grid.fit(features, labels)\n",
    "    print \"training time: \", round(time()-t0, 3), \"s\"\n",
    "    print grid.best_params_\n",
    "    return grid.best_estimator_, grid.best_score_ \n",
    "\n",
    "\n",
    "def optimal_features_scores_calculation(n_splits, sss, clf, features, labels):\n",
    "    df = pd.DataFrame(0, index=np.arange(1,n_splits), columns=['accuracy_score','precision','recall','f1_score'])\n",
    "    df.index.name = 'n_split'\n",
    "#    sss = StratifiedShuffleSplit(n_splits, test_size, random_state)\n",
    "    for i, (e_train, e_test) in enumerate(sss.split(features, labels)):\n",
    "        features_test = []\n",
    "        labels_test = []\n",
    "        features_train = []\n",
    "        labels_train = []\n",
    "        for k in e_train:\n",
    "            labels_train.append(labels[k])\n",
    "            features_train.append(features[k])\n",
    "        for k in e_test:\n",
    "            labels_test.append(labels[k])\n",
    "            features_test.append(features[k])\n",
    "        clf.fit(features_train,labels_train)\n",
    "        prediction = clf.predict(features_test)\n",
    "        df.loc[i,'accuracy_score'] = accuracy_score(labels_test, prediction)\n",
    "        df.loc[i,'precision'] = precision_score(labels_test, prediction)\n",
    "        df.loc[i,'recall'] = recall_score(labels_test, prediction)\n",
    "        df.loc[i,'f1_score'] = f1_score(labels_test, prediction)\n",
    "    return df.mean(axis=0)"
   ]
  },
  {
   "cell_type": "markdown",
   "metadata": {},
   "source": [
    "For the Gaussian NB the best F1 score and the optimal number of features was found to be: F! score = 0.343, 11 features to give this value"
   ]
  },
  {
   "cell_type": "code",
   "execution_count": null,
   "metadata": {},
   "outputs": [],
   "source": [
    "import warnings\n",
    "warnings.filterwarnings('ignore')\n",
    "\n",
    "data = featureFormat(my_dataset, features_list, sort_keys = True)\n",
    "labels, features = targetFeatureSplit(data)\n",
    "sss = StratifiedShuffleSplit(n_splits=100, test_size=0.3, random_state=32)\n",
    "skb = SelectKBest(f_classif)\n",
    "\n",
    "##Algorithm 1 GaussianNaive Bayes\n",
    "clf_gaussian_NB = GaussianNB()\n",
    "pipeline_GaussianNB = Pipeline(steps = [(\"SKB\", skb), (\"NaiveBayes\",clf_gaussian_NB)])\n",
    "param_grid_GaussianNB = {\"SKB__k\": range(1,len(features_list))}\n",
    "clf_Gaussian_best, f1score_GaussianNB = optimal_feature_estimator(pipeline=pipeline_GaussianNB, param_grid=param_grid_GaussianNB, sss=sss, features=features, labels=labels)\n",
    "scores_Gaussian_NB = optimal_features_scores_calculation(n_splits=100, sss=sss, clf=clf_Gaussian_best, features=features, labels=labels)\n",
    "print 'scores Gaussian NB', scores_Gaussian_NB"
   ]
  },
  {
   "cell_type": "markdown",
   "metadata": {},
   "source": [
    "For the KNN algorithm we tune the parameter also of nearest neighbour and this gives us that the optimal is at 1 neighbour and for 3 features with a F1 score of 0.240"
   ]
  },
  {
   "cell_type": "code",
   "execution_count": null,
   "metadata": {},
   "outputs": [],
   "source": [
    "import warnings\n",
    "warnings.filterwarnings('ignore')\n",
    "\n",
    "clf_knn = KNeighborsClassifier()\n",
    "scaler = MinMaxScaler()\n",
    "skb = SelectKBest(f_classif)\n",
    "pipeline_knn = Pipeline(steps = [(\"scaling\", scaler), (\"SKB\", skb), (\"knn\",clf_knn)])\n",
    "param_grid_knn = {\"SKB__k\": range(1,len(features_list)), \"knn__n_neighbors\": range(1,len(features_list))}\n",
    "clf_knn_best, f1score_knn = optimal_feature_estimator(pipeline=pipeline_knn, param_grid=param_grid_knn, sss=sss, features=features, labels=labels)\n",
    "scores_knn = optimal_features_scores_calculation(n_splits=100, sss=sss, clf=clf_knn_best, features=features, labels=labels)\n",
    "print 'scores K neareast Neighbour', scores_knn"
   ]
  },
  {
   "cell_type": "markdown",
   "metadata": {},
   "source": [
    "And finally for the Decision Tree algorithm, we can tune many more parameters and in this case we did so for max_depth, criterion and min samples split. Running the grid search leads to the optimal parameters of crierion = entropy, max_depth=2, min_samples_split = 10 and finally optimal number of features is 12. The F1 score obtainted for this was of 0.304"
   ]
  },
  {
   "cell_type": "code",
   "execution_count": null,
   "metadata": {},
   "outputs": [],
   "source": [
    "import warnings\n",
    "warnings.filterwarnings('ignore')\n",
    "\n",
    "clf_dtree = DecisionTreeClassifier()\n",
    "pipeline_DT = Pipeline(steps = [(\"SKB\", skb), (\"DT\",clf_dtree)])\n",
    "param_grid_DT = {\"SKB__k\": range(1,len(features_list)), 'DT__max_depth': [2,5,10,15,20], 'DT__min_samples_split': [2,4,6,8,10], 'DT__criterion': ['gini','entropy']}\n",
    "clf_DT_best, f1score_DT = optimal_feature_estimator(pipeline=pipeline_DT, param_grid=param_grid_DT, sss=sss, features=features, labels=labels)\n",
    "scores_DT = optimal_features_scores_calculation(n_splits=100, sss=sss, clf=clf_DT_best, features=features, labels=labels)\n",
    "print 'scores Decision Tree', scores_DT\n",
    "\n",
    "if (f1score_GaussianNB > f1score_knn) & (f1score_GaussianNB > f1score_DT):\n",
    "    clf = clf_Gaussian_best\n",
    "    print 'best algorithm is Gaussian NB with f1 score', f1score_GaussianNB\n",
    "elif (f1score_knn > f1score_GaussianNB) & (f1score_knn > f1score_DT):\n",
    "    clf = clf_knn_best\n",
    "    print 'best algorithm is K Nearest Neighbour with f1 score', f1score_knn\n",
    "else:\n",
    "    clf = clf_DT_best\n",
    "    print 'best algorithm is Decision Tree with f1 score', f1score_DT"
   ]
  },
  {
   "cell_type": "markdown",
   "metadata": {},
   "source": [
    "The F1 score is a harmonic mean of the precision and recall so it is chosen as the evaluation metric to be optimized. The relevance of precision and recall as evaluation metric for this particular project are explained in the Enron_Submission_Final_Answers_NitinRamchandLalwani.html file. This is more relevant than the accuracy metric also explained in Wuestion 6 of the html mentioned. Furthermore, the references used to write up this report are given in the final answers document. "
   ]
  },
  {
   "cell_type": "markdown",
   "metadata": {},
   "source": [
    "For this project, finally the identifier that was chosen was the one giving the best F1 score which was the Gaussian Naive Bayes algorithm."
   ]
  }
 ],
 "metadata": {
  "kernelspec": {
   "display_name": "Python 2",
   "language": "python",
   "name": "python2"
  },
  "language_info": {
   "codemirror_mode": {
    "name": "ipython",
    "version": 2
   },
   "file_extension": ".py",
   "mimetype": "text/x-python",
   "name": "python",
   "nbconvert_exporter": "python",
   "pygments_lexer": "ipython2",
   "version": "2.7.15"
  }
 },
 "nbformat": 4,
 "nbformat_minor": 2
}
