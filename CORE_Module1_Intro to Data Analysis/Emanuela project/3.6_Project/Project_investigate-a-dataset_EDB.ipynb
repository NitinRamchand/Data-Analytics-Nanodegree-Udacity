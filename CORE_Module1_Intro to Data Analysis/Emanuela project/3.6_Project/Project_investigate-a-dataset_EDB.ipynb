{
 "cells": [
  {
   "cell_type": "markdown",
   "metadata": {},
   "source": [
    "> **Tip**: Welcome to the Investigate a Dataset project! You will find tips in quoted sections like this to help organize your approach to your investigation. Before submitting your project, it will be a good idea to go back through your report and remove these sections to make the presentation of your work as tidy as possible. First things first, you might want to double-click this Markdown cell and change the title so that it reflects your dataset and investigation.\n",
    "\n",
    "# Project: Investigating Emissions Datasets\n",
    "\n",
    "## Table of Contents\n",
    "<ul>\n",
    "<li><a href=\"#intro\">Introduction</a></li>\n",
    "<li><a href=\"#wrangling\">Data Wrangling</a></li>\n",
    "<li><a href=\"#eda\">Exploratory Data Analysis</a></li>\n",
    "<li><a href=\"#conclusions\">Conclusions</a></li>\n",
    "</ul>"
   ]
  },
  {
   "cell_type": "markdown",
   "metadata": {},
   "source": [
    "<a id='intro'></a>\n",
    "## Introduction\n",
    "\n",
    "> **Tip**: In this section of the report, provide a brief introduction to the dataset you've selected for analysis. At the end of this section, describe the questions that you plan on exploring over the course of the report. Try to build your report around the analysis of at least one dependent variable and three independent variables.\n",
    ">\n",
    "> If you haven't yet selected and downloaded your data, make sure you do that first before coming back here. If you're not sure what questions to ask right now, then make sure you familiarize yourself with the variables and the dataset context for ideas of what to explore."
   ]
  },
  {
   "cell_type": "code",
   "execution_count": 22,
   "metadata": {},
   "outputs": [],
   "source": [
    "# Use this cell to set up import statements for all of the packages that you\n",
    "# plan to use.\n",
    "\n",
    "import pandas as pd\n",
    "import numpy as np\n",
    "import matplotlib.pyplot as plt\n",
    "import seaborn as sns\n",
    "%matplotlib inline"
   ]
  },
  {
   "cell_type": "markdown",
   "metadata": {},
   "source": [
    "<a id='wrangling'></a>\n",
    "## Data Wrangling\n",
    "\n",
    "> **Tip**: In this section of the report, you will load in the data, check for cleanliness, and then trim and clean your dataset for analysis. Make sure that you document your steps carefully and justify your cleaning decisions.\n",
    "\n",
    "### General Properties\n",
    "In this section we will import csv files and create a different dataframe for each file imported from Gapminder. The files imported are:\n",
    "1. CO2 emissions (tonnes per person): Carbon dioxide emissions from the burning of fossil fuels (metric tonnes of CO2 per person)\n",
    "2. Yearly CO2 emissions (1000 tonnes): total carbon dioxide emissions from the burning of fosil fuels during the given year (1000 metric tonnes of CO2)\n",
    "3. CO2 intensity of economic output (kg CO2 per 2011 PPP USD of GDP): carbon dioxide emissions are those stemming from the burning of fossil fuels and the manufacture of cement. They incude carbon dioxide produced during consumption of solid, liquid, and gas fuels and gas flaring.\n",
    "4. Cumulative CO2 emissions (tonnes): total CO2 emissions from fossil fuel for the period between 1751 and the relevant year in metric tonnes.\n",
    "5. Sulfur emissions per person (kg): sulfur emissions per person. Associated with acid rain. (Kilograms of sulfur per person and year)\n",
    "6. Total sulfur emissions (kilotonnes): total sulfur emissions per year. Associated with acid rain. 1000 tonnes of sulfur per year.\n"
   ]
  },
  {
   "cell_type": "code",
   "execution_count": 23,
   "metadata": {},
   "outputs": [],
   "source": [
    "# Import csv files\n",
    "co2_emissions = pd.read_csv('co2_emissions_tonnes_per_person.csv')\n",
    "yearly_co2_emissions = pd.read_csv('yearly_co2_emissions_1000_tonnes.csv')\n",
    "co2_intensity = pd.read_csv('co2_intensity_of_economic_output_kg_co2_per_2011_ppp_of_gdp.csv')\n",
    "cumulative_co2 = pd.read_csv('cumulative_co2_emissions_tonnes.csv')\n",
    "sulfur_emissions = pd.read_csv('sulfur_emissions_per_person_kg.csv')\n",
    "total_sulfur_emissions = pd.read_csv('total_sulfur_emission_kilotonnes.csv')"
   ]
  },
  {
   "cell_type": "markdown",
   "metadata": {},
   "source": [
    "All these datafiles are set up the same way. In the first column we have the country name, followed by as many columns as there are years with data available on the aforementioned emissions studied.  "
   ]
  },
  {
   "cell_type": "markdown",
   "metadata": {},
   "source": [
    "### Data Cleaning"
   ]
  },
  {
   "cell_type": "markdown",
   "metadata": {},
   "source": [
    "After looking at the data and analyzing the composition of the different dataframes, I decided to allocate each country line to the respective continent to allow for some continent analyses. To do this I am using a file that I downloaded from the internet which reports the full list of countries in the world and assigns each country to a continent: Africa, Asia, Europe, North America, Oceania, and South America. "
   ]
  },
  {
   "cell_type": "code",
   "execution_count": 24,
   "metadata": {
    "scrolled": true
   },
   "outputs": [
    {
     "data": {
      "text/html": [
       "<div>\n",
       "<style scoped>\n",
       "    .dataframe tbody tr th:only-of-type {\n",
       "        vertical-align: middle;\n",
       "    }\n",
       "\n",
       "    .dataframe tbody tr th {\n",
       "        vertical-align: top;\n",
       "    }\n",
       "\n",
       "    .dataframe thead th {\n",
       "        text-align: right;\n",
       "    }\n",
       "</style>\n",
       "<table border=\"1\" class=\"dataframe\">\n",
       "  <thead>\n",
       "    <tr style=\"text-align: right;\">\n",
       "      <th></th>\n",
       "      <th>Continent</th>\n",
       "      <th>Country</th>\n",
       "    </tr>\n",
       "  </thead>\n",
       "  <tbody>\n",
       "    <tr>\n",
       "      <th>0</th>\n",
       "      <td>Africa</td>\n",
       "      <td>Algeria</td>\n",
       "    </tr>\n",
       "    <tr>\n",
       "      <th>1</th>\n",
       "      <td>Africa</td>\n",
       "      <td>Angola</td>\n",
       "    </tr>\n",
       "    <tr>\n",
       "      <th>2</th>\n",
       "      <td>Africa</td>\n",
       "      <td>Benin</td>\n",
       "    </tr>\n",
       "    <tr>\n",
       "      <th>3</th>\n",
       "      <td>Africa</td>\n",
       "      <td>Botswana</td>\n",
       "    </tr>\n",
       "    <tr>\n",
       "      <th>4</th>\n",
       "      <td>Africa</td>\n",
       "      <td>Burkina</td>\n",
       "    </tr>\n",
       "  </tbody>\n",
       "</table>\n",
       "</div>"
      ],
      "text/plain": [
       "  Continent   Country\n",
       "0    Africa   Algeria\n",
       "1    Africa    Angola\n",
       "2    Africa     Benin\n",
       "3    Africa  Botswana\n",
       "4    Africa   Burkina"
      ]
     },
     "execution_count": 24,
     "metadata": {},
     "output_type": "execute_result"
    }
   ],
   "source": [
    "# Import CSV of countries and continents\n",
    "continents = pd.read_csv('Countries-Continents.csv')\n",
    "continents.head()"
   ]
  },
  {
   "cell_type": "code",
   "execution_count": 25,
   "metadata": {
    "scrolled": true
   },
   "outputs": [
    {
     "name": "stdout",
     "output_type": "stream",
     "text": [
      "Burkina\n",
      "Congo\n",
      "Congo, Democratic Republic of\n",
      "Ivory Coast\n",
      "Burma (Myanmar)\n",
      "East Timor\n",
      "Korea, North\n",
      "Korea, South\n",
      "Kyrgyzstan\n",
      "Laos\n",
      "Russian Federation\n",
      "CZ\n",
      "Macedonia\n",
      "Monaco\n",
      "San Marino\n",
      "Slovakia\n",
      "Vatican City\n",
      "Saint Kitts and Nevis\n",
      "Saint Lucia\n",
      "Saint Vincent and the Grenadines\n",
      "US\n",
      "Micronesia\n"
     ]
    }
   ],
   "source": [
    "# Check if the countries in countries-continents.csv have the same spelling as the countries in the emissions csv files\n",
    "\n",
    "s1 = continents['Country'].unique()\n",
    "s2 = co2_emissions['country'].unique()\n",
    "\n",
    "for country1 in s1:\n",
    "    if country1 not in s2:\n",
    "        print country1"
   ]
  },
  {
   "cell_type": "code",
   "execution_count": 26,
   "metadata": {},
   "outputs": [
    {
     "name": "stdout",
     "output_type": "stream",
     "text": [
      "Burkina Faso\n",
      "Congo, Dem. Rep.\n",
      "Congo, Rep.\n",
      "Cote d'Ivoire\n",
      "Czech Republic\n",
      "Kyrgyz Republic\n",
      "Lao\n",
      "Macedonia, FYR\n",
      "Micronesia, Fed. Sts.\n",
      "Myanmar\n",
      "North Korea\n",
      "Palestine\n",
      "Russia\n",
      "Slovak Republic\n",
      "South Korea\n",
      "St. Kitts and Nevis\n",
      "St. Lucia\n",
      "St. Vincent and the Grenadines\n",
      "Timor-Leste\n",
      "United States\n"
     ]
    }
   ],
   "source": [
    "for country2 in s2:\n",
    "    if country2 not in s1:\n",
    "        print country2 "
   ]
  },
  {
   "cell_type": "code",
   "execution_count": 27,
   "metadata": {},
   "outputs": [],
   "source": [
    "# Align country names\n",
    "continents = continents.replace('Burkina','Burkina Faso')\n",
    "continents = continents.replace('Congo','Congo, Rep.')\n",
    "continents = continents.replace('Congo, Democratic Republic of','Congo, Dem. Rep.')\n",
    "continents = continents.replace('Ivory Coast',\"Cote d'Ivoire\")\n",
    "continents = continents.replace('Burma (Myanmar)','Myanmar')\n",
    "continents = continents.replace('East Timor','Timor-Leste')\n",
    "continents = continents.replace('Korea, North','North Korea')\n",
    "continents = continents.replace('Korea, South','South Korea')\n",
    "continents = continents.replace('Kyrgyzstan','Kyrgyz Republic')\n",
    "continents = continents.replace('Laos','Lao')\n",
    "continents = continents.replace('Russian Federation','Russia')\n",
    "continents = continents.replace('CZ','Czech Republic')\n",
    "continents = continents.replace('Macedonia','Macedonia, FYR')\n",
    "continents = continents.replace('Slovakia','Slovak Republic')\n",
    "continents = continents.replace('Saint Kitts and Nevis','St. Kitts and Nevis')\n",
    "continents = continents.replace('Saint Lucia','St. Lucia')\n",
    "continents = continents.replace('Saint Vincent and the Grenadines','St. Vincent and the Grenadines')\n",
    "continents = continents.replace('US','United States')\n",
    "continents = continents.replace('Micronesia','Micronesia, Fed. Sts.')"
   ]
  },
  {
   "cell_type": "code",
   "execution_count": 28,
   "metadata": {},
   "outputs": [
    {
     "name": "stdout",
     "output_type": "stream",
     "text": [
      "Monaco\n",
      "San Marino\n",
      "Vatican City\n"
     ]
    }
   ],
   "source": [
    "s1 = continents['Country'].unique()\n",
    "s2 = co2_emissions['country'].unique()\n",
    "\n",
    "for country1 in s1:\n",
    "    if country1 not in s2:\n",
    "        print country1"
   ]
  },
  {
   "cell_type": "code",
   "execution_count": 29,
   "metadata": {},
   "outputs": [
    {
     "name": "stdout",
     "output_type": "stream",
     "text": [
      "Palestine\n"
     ]
    }
   ],
   "source": [
    "for country2 in s2:\n",
    "    if country2 not in s1:\n",
    "        print country2 "
   ]
  },
  {
   "cell_type": "markdown",
   "metadata": {},
   "source": [
    "#### Add continents in the dataframes"
   ]
  },
  {
   "cell_type": "code",
   "execution_count": 30,
   "metadata": {
    "scrolled": false
   },
   "outputs": [],
   "source": [
    "# Assign a continent to each country for each file\n",
    "co2_emissions = continents.merge(co2_emissions, left_on=['Country'], right_on=['country'], how='inner')\n",
    "\n",
    "# # Debugging\n",
    "# ## Check if 'country' and 'Country' are matching\n",
    "# co2_emissions['is_equal'] =( co2_emissions['country'].str.lower().str.replace('s/+',\"\") == co2_emissions['Country'].str.lower().str.replace('s/+',\"\"))\n",
    "# co2_emissions.is_equal.unique()\n",
    "\n",
    "# ## Check if all countries have a continent\n",
    "# co2_emissions.Continent.unique()\n",
    "# co2_emissions.drop(['Country', 'is_equal'], axis=1, inplace=True)\n",
    "\n",
    "co2_emissions.drop(['Country'], axis=1, inplace=True)\n",
    "\n",
    "yearly_co2_emissions = continents.merge(yearly_co2_emissions, left_on=['Country'], right_on=['country'], how='inner')\n",
    "yearly_co2_emissions.drop(['Country'], axis=1, inplace=True)\n",
    "\n",
    "co2_intensity = continents.merge(co2_intensity, left_on=['Country'], right_on=['country'], how='inner')\n",
    "co2_intensity.drop(['Country'], axis=1, inplace=True)\n",
    "\n",
    "cumulative_co2 = continents.merge(cumulative_co2, left_on=['Country'], right_on=['country'], how='inner')\n",
    "cumulative_co2.drop(['Country'], axis=1, inplace=True)\n",
    "\n",
    "sulfur_emissions = continents.merge(sulfur_emissions, left_on=['Country'], right_on=['country'], how='inner')\n",
    "sulfur_emissions.drop(['Country'], axis=1, inplace=True)\n",
    "\n",
    "total_sulfur_emissions = continents.merge(total_sulfur_emissions, left_on=['Country'], right_on=['country'], how='inner')\n",
    "total_sulfur_emissions.drop(['Country'], axis=1, inplace=True)"
   ]
  },
  {
   "cell_type": "code",
   "execution_count": null,
   "metadata": {},
   "outputs": [],
   "source": []
  },
  {
   "cell_type": "markdown",
   "metadata": {},
   "source": [
    "#### Merge the world map with the emissions dataframes "
   ]
  },
  {
   "cell_type": "code",
   "execution_count": 31,
   "metadata": {
    "scrolled": false
   },
   "outputs": [
    {
     "data": {
      "text/plain": [
       "<matplotlib.axes._subplots.AxesSubplot at 0xf156828>"
      ]
     },
     "execution_count": 31,
     "metadata": {},
     "output_type": "execute_result"
    },
    {
     "data": {
      "image/png": "[encoded data removed]",
      "text/plain": [
       "<Figure size 432x288 with 1 Axes>"
      ]
     },
     "metadata": {
      "needs_background": "light"
     },
     "output_type": "display_data"
    }
   ],
   "source": [
    "%matplotlib inline\n",
    "import geopandas\n",
    "\n",
    "world = geopandas.read_file(geopandas.datasets.get_path('naturalearth_lowres'))\n",
    "world = world[(world.pop_est>0) & (world.name!=\"Antarctica\")]\n",
    "world.plot()"
   ]
  },
  {
   "cell_type": "code",
   "execution_count": 32,
   "metadata": {},
   "outputs": [
    {
     "name": "stdout",
     "output_type": "stream",
     "text": [
      "Fr. S. Antarctic Lands\n",
      "Bosnia and Herz.\n",
      "Central African Rep.\n",
      "Côte d'Ivoire\n",
      "Dem. Rep. Congo\n",
      "Congo\n",
      "N. Cyprus\n",
      "Czech Rep.\n",
      "Dominican Rep.\n",
      "Falkland Is.\n",
      "Eq. Guinea\n",
      "Greenland\n",
      "Kyrgyzstan\n",
      "Korea\n",
      "Kosovo\n",
      "Lao PDR\n",
      "Macedonia\n",
      "New Caledonia\n",
      "Puerto Rico\n",
      "Dem. Rep. Korea\n",
      "Palestine\n",
      "S. Sudan\n",
      "Solomon Is.\n",
      "Somaliland\n",
      "Slovakia\n",
      "Taiwan\n"
     ]
    }
   ],
   "source": [
    "s3 = world['name'].unique()\n",
    "s4 = co2_emissions['country'].unique()\n",
    "\n",
    "for country3 in s3:\n",
    "    if country3 not in s4:\n",
    "        print country3"
   ]
  },
  {
   "cell_type": "code",
   "execution_count": 33,
   "metadata": {},
   "outputs": [
    {
     "name": "stdout",
     "output_type": "stream",
     "text": [
      "Cape Verde\n",
      "Central African Republic\n",
      "Comoros\n",
      "Congo, Rep.\n",
      "Congo, Dem. Rep.\n",
      "Equatorial Guinea\n",
      "Cote d'Ivoire\n",
      "Mauritius\n",
      "Sao Tome and Principe\n",
      "Seychelles\n",
      "South Sudan\n",
      "Bahrain\n",
      "North Korea\n",
      "South Korea\n",
      "Kyrgyz Republic\n",
      "Lao\n",
      "Maldives\n",
      "Singapore\n",
      "Andorra\n",
      "Bosnia and Herzegovina\n",
      "Czech Republic\n",
      "Liechtenstein\n",
      "Macedonia, FYR\n",
      "Malta\n",
      "Slovak Republic\n",
      "Antigua and Barbuda\n",
      "Barbados\n",
      "Dominica\n",
      "Dominican Republic\n",
      "Grenada\n",
      "St. Kitts and Nevis\n",
      "St. Lucia\n",
      "St. Vincent and the Grenadines\n",
      "Kiribati\n",
      "Marshall Islands\n",
      "Micronesia, Fed. Sts.\n",
      "Nauru\n",
      "Palau\n",
      "Samoa\n",
      "Solomon Islands\n",
      "Tonga\n",
      "Tuvalu\n"
     ]
    }
   ],
   "source": [
    "for country4 in s4:\n",
    "    if country4 not in s3:\n",
    "        print country4"
   ]
  },
  {
   "cell_type": "code",
   "execution_count": 34,
   "metadata": {},
   "outputs": [],
   "source": [
    "#Align Country Names\n",
    "#world = world.replace('W. Sahara','')\n",
    "world = world.replace('United States of America','United States')\n",
    "world = world.replace('Dem. Rep. Congo','Congo, Dem. Rep.')\n",
    "world = world.replace('Dominican Rep.','Dominican Republic')\n",
    "#world = world.replace('Falkland Is.','')\n",
    "#world = world.replace('Greenland','')\n",
    "#world = world.replace('Fr. S. Antarctic Lands','')\n",
    "#world = world.replace('Puerto Rico','')\n",
    "world = world.replace('Côte d\\'Ivoire','Cote d\\'Ivoire')\n",
    "world = world.replace('Central African Rep.','Central African Republic')\n",
    "world = world.replace('Congo','Congo, Rep.')\n",
    "world = world.replace('Eq. Guinea','Equatorial Guinea')\n",
    "world = world.replace('eSwatini','Swaziland')\n",
    "#world = world.replace('Palestine','')\n",
    "world = world.replace('Laos','Lao')\n",
    "world = world.replace('Kyrgyzstan','Kyrgyz Republic')\n",
    "#world = world.replace('New Caledonia','')\n",
    "world = world.replace('Solomon Is.','Solomon Islands')\n",
    "#world = world.replace('Taiwan','')\n",
    "world = world.replace('Slovakia','Slovak Republic')\n",
    "world = world.replace('Czechia','Czech Republic')\n",
    "#world = world.replace('Antarctica','')\n",
    "#world = world.replace('N. Cyprus','')\n",
    "#world = world.replace('Somaliland','')\n",
    "world = world.replace('Bosnia and Herz.','Bosnia and Herzegovina')\n",
    "world = world.replace('Macedonia','Macedonia, FYR')\n",
    "#world = world.replace('Kosovo','')\n",
    "world = world.replace('S. Sudan','South Sudan')"
   ]
  },
  {
   "cell_type": "code",
   "execution_count": 35,
   "metadata": {},
   "outputs": [
    {
     "name": "stdout",
     "output_type": "stream",
     "text": [
      "Fr. S. Antarctic Lands\n",
      "Côte d'Ivoire\n",
      "N. Cyprus\n",
      "Czech Rep.\n",
      "Falkland Is.\n",
      "Greenland\n",
      "Korea\n",
      "Kosovo\n",
      "Lao PDR\n",
      "New Caledonia\n",
      "Puerto Rico\n",
      "Dem. Rep. Korea\n",
      "Palestine\n",
      "Somaliland\n",
      "Taiwan\n"
     ]
    }
   ],
   "source": [
    "s3 = world['name'].unique()\n",
    "s4 = co2_emissions['country'].unique()\n",
    "\n",
    "for country3 in s3:\n",
    "    if country3 not in s4:\n",
    "        print country3"
   ]
  },
  {
   "cell_type": "code",
   "execution_count": 36,
   "metadata": {},
   "outputs": [
    {
     "name": "stdout",
     "output_type": "stream",
     "text": [
      "Cape Verde\n",
      "Comoros\n",
      "Cote d'Ivoire\n",
      "Mauritius\n",
      "Sao Tome and Principe\n",
      "Seychelles\n",
      "Bahrain\n",
      "North Korea\n",
      "South Korea\n",
      "Lao\n",
      "Maldives\n",
      "Singapore\n",
      "Andorra\n",
      "Czech Republic\n",
      "Liechtenstein\n",
      "Malta\n",
      "Antigua and Barbuda\n",
      "Barbados\n",
      "Dominica\n",
      "Grenada\n",
      "St. Kitts and Nevis\n",
      "St. Lucia\n",
      "St. Vincent and the Grenadines\n",
      "Kiribati\n",
      "Marshall Islands\n",
      "Micronesia, Fed. Sts.\n",
      "Nauru\n",
      "Palau\n",
      "Samoa\n",
      "Tonga\n",
      "Tuvalu\n"
     ]
    }
   ],
   "source": [
    "for country4 in s4:\n",
    "    if country4 not in s3:\n",
    "        print country4"
   ]
  },
  {
   "cell_type": "markdown",
   "metadata": {},
   "source": [
    "Not all the countries could be aligned."
   ]
  },
  {
   "cell_type": "code",
   "execution_count": 37,
   "metadata": {
    "scrolled": true
   },
   "outputs": [],
   "source": [
    "# Merge the world map\n",
    "\n",
    "co2_emissions = world.merge(co2_emissions, left_on=['name'], right_on=['country'], how='inner')\n",
    "co2_emissions.drop(['name', 'continent'], axis=1, inplace=True)\n",
    "\n",
    "yearly_co2_emissions = world.merge(yearly_co2_emissions, left_on=['name'], right_on=['country'], how='inner')\n",
    "yearly_co2_emissions.drop(['name', 'continent'], axis=1, inplace=True)\n",
    "\n",
    "co2_intensity = world.merge(co2_intensity, left_on=['name'], right_on=['country'], how='inner')\n",
    "co2_intensity.drop(['name', 'continent'], axis=1, inplace=True)\n",
    "\n",
    "cumulative_co2 = world.merge(cumulative_co2, left_on=['name'], right_on=['country'], how='inner')\n",
    "cumulative_co2.drop(['name', 'continent'], axis=1, inplace=True)\n",
    "\n",
    "sulfur_emissions = world.merge(sulfur_emissions, left_on=['name'], right_on=['country'], how='inner')\n",
    "sulfur_emissions.drop(['name', 'continent'], axis=1, inplace=True)\n",
    "\n",
    "total_sulfur_emissions = world.merge(total_sulfur_emissions, left_on=['name'], right_on=['country'], how='inner')\n",
    "total_sulfur_emissions.drop(['name', 'continent'], axis=1, inplace=True)"
   ]
  },
  {
   "cell_type": "code",
   "execution_count": 38,
   "metadata": {},
   "outputs": [
    {
     "data": {
      "text/plain": [
       "pop_est                                             1.33861e+09\n",
       "iso_a3                                                      ZWE\n",
       "gdp_md_est                                           1.5094e+07\n",
       "geometry      POLYGON ((35.82110070165024 33.2774264592763, ...\n",
       "Continent                                         South America\n",
       "country                                                Zimbabwe\n",
       "1751                                                       9360\n",
       "1752                                                       9360\n",
       "1753                                                       9360\n",
       "1754                                                       9370\n",
       "1755                                                       9370\n",
       "1756                                                      10000\n",
       "1757                                                      10000\n",
       "1758                                                      10000\n",
       "1759                                                      10000\n",
       "1760                                                      10000\n",
       "1761                                                      11000\n",
       "1762                                                      11000\n",
       "1763                                                      11000\n",
       "1764                                                      11000\n",
       "1765                                                      11000\n",
       "1766                                                      12300\n",
       "1767                                                      12300\n",
       "1768                                                      12300\n",
       "1769                                                      12300\n",
       "1770                                                      12300\n",
       "1771                                                      13600\n",
       "1772                                                      13600\n",
       "1773                                                      13600\n",
       "1774                                                      13600\n",
       "                                    ...                        \n",
       "1985                                                   4.49e+06\n",
       "1986                                                    4.5e+06\n",
       "1987                                                   4.69e+06\n",
       "1988                                                   4.89e+06\n",
       "1989                                                   4.96e+06\n",
       "1990                                                   4.82e+06\n",
       "1991                                                   4.82e+06\n",
       "1992                                                   4.91e+06\n",
       "1993                                                   5.03e+06\n",
       "1994                                                   5.09e+06\n",
       "1995                                                   5.13e+06\n",
       "1996                                                   5.25e+06\n",
       "1997                                                   5.37e+06\n",
       "1998                                                    5.4e+06\n",
       "1999                                                    5.5e+06\n",
       "2000                                                   5.69e+06\n",
       "2001                                                    5.6e+06\n",
       "2002                                                   5.64e+06\n",
       "2003                                                   5.68e+06\n",
       "2004                                                   5.76e+06\n",
       "2005                                                    5.9e+06\n",
       "2006                                                   6.53e+06\n",
       "2007                                                   7.03e+06\n",
       "2008                                                   7.55e+06\n",
       "2009                                                      8e+06\n",
       "2010                                                   8.78e+06\n",
       "2011                                                   9.73e+06\n",
       "2012                                                      1e+07\n",
       "2013                                                   1.03e+07\n",
       "2014                                                   1.03e+07\n",
       "Length: 270, dtype: object"
      ]
     },
     "execution_count": 38,
     "metadata": {},
     "output_type": "execute_result"
    }
   ],
   "source": [
    "np.max(yearly_co2_emissions)"
   ]
  },
  {
   "cell_type": "markdown",
   "metadata": {},
   "source": [
    "<a id='eda'></a>\n",
    "## Exploratory Data Analysis\n",
    "\n",
    "> **Tip**: Now that you've trimmed and cleaned your data, you're ready to move on to exploration. Compute statistics and create visualizations with the goal of addressing the research questions that you posed in the Introduction section. It is recommended that you be systematic with your approach. Look at one variable at a time, and then follow it up by looking at relationships between variables."
   ]
  },
  {
   "cell_type": "markdown",
   "metadata": {},
   "source": [
    "### Mapping the World"
   ]
  },
  {
   "cell_type": "code",
   "execution_count": 39,
   "metadata": {},
   "outputs": [],
   "source": [
    "# http://geopandas.org/mapping.html"
   ]
  },
  {
   "cell_type": "code",
   "execution_count": 40,
   "metadata": {},
   "outputs": [
    {
     "data": {
      "text/plain": [
       "10300000.0"
      ]
     },
     "execution_count": 40,
     "metadata": {},
     "output_type": "execute_result"
    }
   ],
   "source": [
    "df = yearly_co2_emissions\n",
    "df.drop(['pop_est','iso_a3','gdp_md_est','geometry','Continent','country'], axis=1, inplace=True)\n",
    "valuemax = np.max(df)\n",
    "vmax = valuemax.max()\n",
    "vmax"
   ]
  },
  {
   "cell_type": "code",
   "execution_count": 44,
   "metadata": {},
   "outputs": [
    {
     "ename": "AttributeError",
     "evalue": "No geometry data set yet (expected in column 'geometry'.",
     "output_type": "error",
     "traceback": [
      "\u001b[1;31m---------------------------------------------------------------------------\u001b[0m",
      "\u001b[1;31mAttributeError\u001b[0m                            Traceback (most recent call last)",
      "\u001b[1;32m<ipython-input-44-bc076e03faaf>\u001b[0m in \u001b[0;36m<module>\u001b[1;34m()\u001b[0m\n\u001b[0;32m      8\u001b[0m \u001b[1;33m\u001b[0m\u001b[0m\n\u001b[0;32m      9\u001b[0m \u001b[1;31m# 1st subplot\u001b[0m\u001b[1;33m\u001b[0m\u001b[1;33m\u001b[0m\u001b[0m\n\u001b[1;32m---> 10\u001b[1;33m \u001b[0max\u001b[0m \u001b[1;33m=\u001b[0m \u001b[0mdataframe\u001b[0m\u001b[1;33m.\u001b[0m\u001b[0mplot\u001b[0m\u001b[1;33m(\u001b[0m\u001b[0mcolumn\u001b[0m\u001b[1;33m=\u001b[0m\u001b[1;34m'1880'\u001b[0m\u001b[1;33m,\u001b[0m \u001b[0maxes\u001b[0m\u001b[1;33m=\u001b[0m\u001b[0maxes\u001b[0m\u001b[1;33m.\u001b[0m\u001b[0mflat\u001b[0m\u001b[1;33m[\u001b[0m\u001b[1;36m0\u001b[0m\u001b[1;33m]\u001b[0m\u001b[1;33m,\u001b[0m \u001b[0mcmap\u001b[0m\u001b[1;33m=\u001b[0m\u001b[1;34m'jet'\u001b[0m\u001b[1;33m,\u001b[0m \u001b[0medgecolor\u001b[0m\u001b[1;33m=\u001b[0m\u001b[1;34m'gray'\u001b[0m\u001b[1;33m,\u001b[0m \u001b[0max\u001b[0m\u001b[1;33m=\u001b[0m\u001b[0max\u001b[0m\u001b[1;33m,\u001b[0m \u001b[0mvmin\u001b[0m \u001b[1;33m=\u001b[0m \u001b[1;36m0\u001b[0m\u001b[1;33m,\u001b[0m \u001b[0mvmax\u001b[0m \u001b[1;33m=\u001b[0m \u001b[1;36m1.03e+7\u001b[0m\u001b[1;33m)\u001b[0m\u001b[1;33m\u001b[0m\u001b[0m\n\u001b[0m\u001b[0;32m     11\u001b[0m \u001b[0max\u001b[0m\u001b[1;33m.\u001b[0m\u001b[0mset_title\u001b[0m\u001b[1;33m(\u001b[0m\u001b[1;34m'1880'\u001b[0m\u001b[1;33m)\u001b[0m\u001b[1;33m\u001b[0m\u001b[0m\n\u001b[0;32m     12\u001b[0m \u001b[0max\u001b[0m\u001b[1;33m.\u001b[0m\u001b[0mset_axis_off\u001b[0m\u001b[1;33m(\u001b[0m\u001b[1;33m)\u001b[0m\u001b[1;33m\u001b[0m\u001b[0m\n",
      "\u001b[1;32mC:\\Users\\RAMCHAND_N\\AppData\\Local\\Continuum\\anaconda3\\envs\\py27\\lib\\site-packages\\geopandas\\geodataframe.pyc\u001b[0m in \u001b[0;36mplot\u001b[1;34m(self, *args, **kwargs)\u001b[0m\n\u001b[0;32m    467\u001b[0m     \u001b[1;32mdef\u001b[0m \u001b[0mplot\u001b[0m\u001b[1;33m(\u001b[0m\u001b[0mself\u001b[0m\u001b[1;33m,\u001b[0m \u001b[1;33m*\u001b[0m\u001b[0margs\u001b[0m\u001b[1;33m,\u001b[0m \u001b[1;33m**\u001b[0m\u001b[0mkwargs\u001b[0m\u001b[1;33m)\u001b[0m\u001b[1;33m:\u001b[0m\u001b[1;33m\u001b[0m\u001b[0m\n\u001b[0;32m    468\u001b[0m \u001b[1;33m\u001b[0m\u001b[0m\n\u001b[1;32m--> 469\u001b[1;33m         \u001b[1;32mreturn\u001b[0m \u001b[0mplot_dataframe\u001b[0m\u001b[1;33m(\u001b[0m\u001b[0mself\u001b[0m\u001b[1;33m,\u001b[0m \u001b[1;33m*\u001b[0m\u001b[0margs\u001b[0m\u001b[1;33m,\u001b[0m \u001b[1;33m**\u001b[0m\u001b[0mkwargs\u001b[0m\u001b[1;33m)\u001b[0m\u001b[1;33m\u001b[0m\u001b[0m\n\u001b[0m\u001b[0;32m    470\u001b[0m \u001b[1;33m\u001b[0m\u001b[0m\n\u001b[0;32m    471\u001b[0m     \u001b[0mplot\u001b[0m\u001b[1;33m.\u001b[0m\u001b[0m__doc__\u001b[0m \u001b[1;33m=\u001b[0m \u001b[0mplot_dataframe\u001b[0m\u001b[1;33m.\u001b[0m\u001b[0m__doc__\u001b[0m\u001b[1;33m\u001b[0m\u001b[0m\n",
      "\u001b[1;32mC:\\Users\\RAMCHAND_N\\AppData\\Local\\Continuum\\anaconda3\\envs\\py27\\lib\\site-packages\\geopandas\\plotting.pyc\u001b[0m in \u001b[0;36mplot_dataframe\u001b[1;34m(df, column, cmap, color, ax, categorical, legend, scheme, k, vmin, vmax, figsize, **style_kwds)\u001b[0m\n\u001b[0;32m    429\u001b[0m     \u001b[0mmx\u001b[0m \u001b[1;33m=\u001b[0m \u001b[0mvalues\u001b[0m\u001b[1;33m.\u001b[0m\u001b[0mmax\u001b[0m\u001b[1;33m(\u001b[0m\u001b[1;33m)\u001b[0m \u001b[1;32mif\u001b[0m \u001b[0mvmax\u001b[0m \u001b[1;32mis\u001b[0m \u001b[0mNone\u001b[0m \u001b[1;32melse\u001b[0m \u001b[0mvmax\u001b[0m\u001b[1;33m\u001b[0m\u001b[0m\n\u001b[0;32m    430\u001b[0m \u001b[1;33m\u001b[0m\u001b[0m\n\u001b[1;32m--> 431\u001b[1;33m     \u001b[0mgeom_types\u001b[0m \u001b[1;33m=\u001b[0m \u001b[0mdf\u001b[0m\u001b[1;33m.\u001b[0m\u001b[0mgeometry\u001b[0m\u001b[1;33m.\u001b[0m\u001b[0mtype\u001b[0m\u001b[1;33m\u001b[0m\u001b[0m\n\u001b[0m\u001b[0;32m    432\u001b[0m     poly_idx = np.asarray((geom_types == 'Polygon')\n\u001b[0;32m    433\u001b[0m                           | (geom_types == 'MultiPolygon'))\n",
      "\u001b[1;32mC:\\Users\\RAMCHAND_N\\AppData\\Local\\Continuum\\anaconda3\\envs\\py27\\lib\\site-packages\\pandas\\core\\generic.pyc\u001b[0m in \u001b[0;36m__getattr__\u001b[1;34m(self, name)\u001b[0m\n\u001b[0;32m   4374\u001b[0m             \u001b[1;32mif\u001b[0m \u001b[0mself\u001b[0m\u001b[1;33m.\u001b[0m\u001b[0m_info_axis\u001b[0m\u001b[1;33m.\u001b[0m\u001b[0m_can_hold_identifiers_and_holds_name\u001b[0m\u001b[1;33m(\u001b[0m\u001b[0mname\u001b[0m\u001b[1;33m)\u001b[0m\u001b[1;33m:\u001b[0m\u001b[1;33m\u001b[0m\u001b[0m\n\u001b[0;32m   4375\u001b[0m                 \u001b[1;32mreturn\u001b[0m \u001b[0mself\u001b[0m\u001b[1;33m[\u001b[0m\u001b[0mname\u001b[0m\u001b[1;33m]\u001b[0m\u001b[1;33m\u001b[0m\u001b[0m\n\u001b[1;32m-> 4376\u001b[1;33m             \u001b[1;32mreturn\u001b[0m \u001b[0mobject\u001b[0m\u001b[1;33m.\u001b[0m\u001b[0m__getattribute__\u001b[0m\u001b[1;33m(\u001b[0m\u001b[0mself\u001b[0m\u001b[1;33m,\u001b[0m \u001b[0mname\u001b[0m\u001b[1;33m)\u001b[0m\u001b[1;33m\u001b[0m\u001b[0m\n\u001b[0m\u001b[0;32m   4377\u001b[0m \u001b[1;33m\u001b[0m\u001b[0m\n\u001b[0;32m   4378\u001b[0m     \u001b[1;32mdef\u001b[0m \u001b[0m__setattr__\u001b[0m\u001b[1;33m(\u001b[0m\u001b[0mself\u001b[0m\u001b[1;33m,\u001b[0m \u001b[0mname\u001b[0m\u001b[1;33m,\u001b[0m \u001b[0mvalue\u001b[0m\u001b[1;33m)\u001b[0m\u001b[1;33m:\u001b[0m\u001b[1;33m\u001b[0m\u001b[0m\n",
      "\u001b[1;32mC:\\Users\\RAMCHAND_N\\AppData\\Local\\Continuum\\anaconda3\\envs\\py27\\lib\\site-packages\\geopandas\\geodataframe.pyc\u001b[0m in \u001b[0;36m_get_geometry\u001b[1;34m(self)\u001b[0m\n\u001b[0;32m     67\u001b[0m         \u001b[1;32mif\u001b[0m \u001b[0mself\u001b[0m\u001b[1;33m.\u001b[0m\u001b[0m_geometry_column_name\u001b[0m \u001b[1;32mnot\u001b[0m \u001b[1;32min\u001b[0m \u001b[0mself\u001b[0m\u001b[1;33m:\u001b[0m\u001b[1;33m\u001b[0m\u001b[0m\n\u001b[0;32m     68\u001b[0m             raise AttributeError(\"No geometry data set yet (expected in\"\n\u001b[1;32m---> 69\u001b[1;33m                                  \" column '%s'.\" % self._geometry_column_name)\n\u001b[0m\u001b[0;32m     70\u001b[0m         \u001b[1;32mreturn\u001b[0m \u001b[0mself\u001b[0m\u001b[1;33m[\u001b[0m\u001b[0mself\u001b[0m\u001b[1;33m.\u001b[0m\u001b[0m_geometry_column_name\u001b[0m\u001b[1;33m]\u001b[0m\u001b[1;33m\u001b[0m\u001b[0m\n\u001b[0;32m     71\u001b[0m \u001b[1;33m\u001b[0m\u001b[0m\n",
      "\u001b[1;31mAttributeError\u001b[0m: No geometry data set yet (expected in column 'geometry'."
     ]
    },
    {
     "data": {
      "image/png": "[encoded data removed]",
      "text/plain": [
       "<Figure size 1440x1872 with 12 Axes>"
      ]
     },
     "metadata": {
      "needs_background": "light"
     },
     "output_type": "display_data"
    }
   ],
   "source": [
    "from mpl_toolkits.axes_grid1 import make_axes_locatable\n",
    "\n",
    "dataframe = yearly_co2_emissions\n",
    "\n",
    "side_length = 20\n",
    "fig, axes = plt.subplots(6, 2, figsize=(side_length, side_length*1.3))\n",
    "fig.subplots_adjust(hspace=0.01, wspace=0.001)\n",
    "\n",
    "# 1st subplot\n",
    "ax = dataframe.plot(column='1880', axes=axes.flat[0], cmap='jet', edgecolor='gray', ax=ax, vmin = 0, vmax = 1.03e+7)\n",
    "ax.set_title('1880')\n",
    "ax.set_axis_off()\n",
    "ax.set_aspect('equal')\n",
    "\n",
    "# 2nd subplot\n",
    "ax = dataframe.plot(column='1900', axes=axes.flat[1], cmap='jet', edgecolor='gray', ax=ax, vmin = 0, vmax = 1.03e+07)\n",
    "ax.set_title('1900')\n",
    "ax.set_axis_off()\n",
    "ax.set_aspect('equal')\n",
    "\n",
    "# 3rd subplot\n",
    "ax = dataframe.plot(column='1920', axes=axes.flat[2], cmap='jet', edgecolor='gray', ax=ax, vmin = 0, vmax = 1.03e+07)\n",
    "ax.set_title('1920')\n",
    "ax.set_axis_off()\n",
    "ax.set_aspect('equal')\n",
    "\n",
    "# 4th subplot\n",
    "ax = dataframe.plot(column='1940', axes=axes.flat[3], cmap='jet', edgecolor='gray', ax=ax, vmin = 0, vmax = 1.03e+07)\n",
    "ax.set_title('1940')\n",
    "ax.set_axis_off()\n",
    "ax.set_aspect('equal')\n",
    "\n",
    "# 5th subplot\n",
    "ax = dataframe.plot(column='1950', axes=axes.flat[4], cmap='jet', edgecolor='gray', ax=ax, vmin = 0, vmax = 1.03e+07)\n",
    "ax.set_title('1950')\n",
    "ax.set_axis_off()\n",
    "ax.set_aspect('equal')\n",
    "\n",
    "# 6th subplot\n",
    "ax = dataframe.plot(column='1960', axes=axes.flat[5], cmap='jet', edgecolor='gray', ax=ax, vmin = 0, vmax = 1.03e+07)\n",
    "ax.set_title('1960')\n",
    "ax.set_axis_off()\n",
    "ax.set_aspect('equal')\n",
    "\n",
    "# 7th subplot\n",
    "ax = dataframe.plot(column='1970', axes=axes.flat[6], cmap='jet', edgecolor='gray', ax=ax, vmin = 0, vmax = 1.03e+07)\n",
    "ax.set_title('1970')\n",
    "ax.set_axis_off()\n",
    "ax.set_aspect('equal')\n",
    "\n",
    "# 8th subplot\n",
    "ax = dataframe.plot(column='1980', axes=axes.flat[7], cmap='jet', edgecolor='gray', ax=ax, vmin = 0, vmax = 1.03e+07)\n",
    "ax.set_title('1980')\n",
    "ax.set_axis_off()\n",
    "ax.set_aspect('equal')\n",
    "\n",
    "# 9th subplot\n",
    "ax = dataframe.plot(column='1990', axes=axes.flat[8], cmap='jet', edgecolor='gray', ax=ax, vmin = 0, vmax = 1.03e+07)\n",
    "ax.set_title('1990')\n",
    "ax.set_axis_off()\n",
    "ax.set_aspect('equal')\n",
    "\n",
    "# 10th subplot\n",
    "ax = dataframe.plot(column='2000', axes=axes.flat[9], cmap='jet', edgecolor='gray', ax=ax, vmin = 0, vmax = 1.03e+07)\n",
    "ax.set_title('2000')\n",
    "ax.set_axis_off()\n",
    "ax.set_aspect('equal')\n",
    "\n",
    "# 11th subplot\n",
    "ax = dataframe.plot(column='2010', axes=axes.flat[10], cmap='jet', edgecolor='gray', ax=ax, vmin = 0, vmax = 1.03e+07)\n",
    "ax.set_title('2010')\n",
    "ax.set_axis_off()\n",
    "ax.set_aspect('equal')\n",
    "\n",
    "# 12th subplot\n",
    "ax = dataframe.plot(column='2014', axes=axes.flat[11], cmap='jet', edgecolor='gray', ax=ax, vmin = 0, vmax = 1.03e+07)\n",
    "ax.set_title('2014')\n",
    "ax.set_axis_off()\n",
    "ax.set_aspect('equal')\n",
    "\n",
    "# Add single colorbar\n",
    "cax = fig.add_axes([0.95, 0.17, 0.02, 0.65])\n",
    "sm = plt.cm.ScalarMappable(cmap='jet')\n",
    "sm._A = []\n",
    "cbar = fig.colorbar(sm, cax=cax, norm=None)\n",
    "cbar.ax.set_title('Yearly CO2 Emissions *10^7')\n",
    "\n",
    "#plt.savefig('CO2_heatmap.png', dpi=900)"
   ]
  },
  {
   "cell_type": "code",
   "execution_count": null,
   "metadata": {},
   "outputs": [],
   "source": []
  },
  {
   "cell_type": "markdown",
   "metadata": {},
   "source": [
    "### What is the evolution of Emissions in each continent?# "
   ]
  },
  {
   "cell_type": "markdown",
   "metadata": {},
   "source": [
    "We start by grouping the data by continent for each of the six datafiles."
   ]
  },
  {
   "cell_type": "code",
   "execution_count": null,
   "metadata": {},
   "outputs": [],
   "source": [
    "# Remove useless columns from dataframes\n",
    "co2_emissions.drop(['pop_est','iso_a3','gdp_md_est','geometry'], axis=1, inplace=True)\n",
    "yearly_co2_emissions.drop(['pop_est','iso_a3','gdp_md_est','geometry'], axis=1, inplace=True)\n",
    "co2_intensity.drop(['pop_est','iso_a3','gdp_md_est','geometry'], axis=1, inplace=True)\n",
    "cumulative_co2.drop(['pop_est','iso_a3','gdp_md_est','geometry'], axis=1, inplace=True)\n",
    "sulfur_emissions.drop(['pop_est','iso_a3','gdp_md_est','geometry'], axis=1, inplace=True)\n",
    "total_sulfur_emissions.drop(['pop_est','iso_a3','gdp_md_est','geometry'], axis=1, inplace=True)\n",
    "\n",
    "co2_emissions.head()"
   ]
  },
  {
   "cell_type": "code",
   "execution_count": null,
   "metadata": {},
   "outputs": [],
   "source": [
    "# Group data by continent ('Africa' 'Asia' 'Europe' 'North America' 'Oceania' 'South America')\n",
    "\n",
    "co2_emissions_Africa = co2_emissions[co2_emissions.Continent =='Africa']\n",
    "co2_emissions_Asia = co2_emissions[co2_emissions.Continent =='Asia']\n",
    "co2_emissions_Europe = co2_emissions[co2_emissions.Continent =='Europe']\n",
    "co2_emissions_NorthAmerica = co2_emissions[co2_emissions.Continent =='North America']\n",
    "co2_emissions_Oceania = co2_emissions[co2_emissions.Continent =='Oceania']\n",
    "co2_emissions_SouthAmerica = co2_emissions[co2_emissions.Continent =='South America']\n",
    "\n",
    "yearly_co2_emissions_Africa = yearly_co2_emissions[yearly_co2_emissions.Continent =='Africa']\n",
    "yearly_co2_emissions_Asia = yearly_co2_emissions[yearly_co2_emissions.Continent =='Asia']\n",
    "yearly_co2_emissions_Europe = yearly_co2_emissions[yearly_co2_emissions.Continent =='Europe']\n",
    "yearly_co2_emissions_NorthAmerica = yearly_co2_emissions[yearly_co2_emissions.Continent =='North America']\n",
    "yearly_co2_emissions_Oceania = yearly_co2_emissions[yearly_co2_emissions.Continent =='Oceania']\n",
    "yearly_co2_emissions_SouthAmerica = yearly_co2_emissions[yearly_co2_emissions.Continent =='South America']\n",
    "\n",
    "co2_intensity_Africa = co2_intensity[co2_intensity.Continent =='Africa']\n",
    "co2_intensity_Asia = co2_intensity[co2_intensity.Continent =='Asia']\n",
    "co2_intensity_Europe = co2_intensity[co2_intensity.Continent =='Europe']\n",
    "co2_intensity_NorthAmerica = co2_intensity[co2_intensity.Continent =='North America']\n",
    "co2_intensity_Oceania = co2_intensity[co2_intensity.Continent =='Oceania']\n",
    "co2_intensity_SouthAmerica = co2_intensity[co2_intensity.Continent =='South America']\n",
    "\n",
    "cumulative_co2_Africa = cumulative_co2[cumulative_co2.Continent =='Africa']\n",
    "cumulative_co2_Asia = cumulative_co2[cumulative_co2.Continent =='Asia']\n",
    "cumulative_co2_Europe = cumulative_co2[cumulative_co2.Continent =='Europe']\n",
    "cumulative_co2_NorthAmerica = cumulative_co2[cumulative_co2.Continent =='North America']\n",
    "cumulative_co2_Oceania = cumulative_co2[cumulative_co2.Continent =='Oceania']\n",
    "cumulative_co2_SouthAmerica = cumulative_co2[cumulative_co2.Continent =='South America']\n",
    "\n",
    "sulfur_emissions_Africa = sulfur_emissions[sulfur_emissions.Continent =='Africa']\n",
    "sulfur_emissions_Asia = sulfur_emissions[sulfur_emissions.Continent =='Asia']\n",
    "sulfur_emissions_Europe = sulfur_emissions[sulfur_emissions.Continent =='Europe']\n",
    "sulfur_emissions_NorthAmerica = sulfur_emissions[sulfur_emissions.Continent =='North America']\n",
    "sulfur_emissions_Oceania = sulfur_emissions[sulfur_emissions.Continent =='Oceania']\n",
    "sulfur_emissions_SouthAmerica = sulfur_emissions[sulfur_emissions.Continent =='South America']\n",
    "\n",
    "total_sulfur_emissions_Africa = total_sulfur_emissions[total_sulfur_emissions.Continent =='Africa']\n",
    "total_sulfur_emissions_Asia = total_sulfur_emissions[total_sulfur_emissions.Continent =='Asia']\n",
    "total_sulfur_emissions_Europe = total_sulfur_emissions[total_sulfur_emissions.Continent =='Europe']\n",
    "total_sulfur_emissions_NorthAmerica = total_sulfur_emissions[total_sulfur_emissions.Continent =='North America']\n",
    "total_sulfur_emissions_Oceania = total_sulfur_emissions[total_sulfur_emissions.Continent =='Oceania']\n",
    "total_sulfur_emissions_SouthAmerica = total_sulfur_emissions[total_sulfur_emissions.Continent =='South America']\n"
   ]
  },
  {
   "cell_type": "markdown",
   "metadata": {},
   "source": [
    "#### Test for Correlation"
   ]
  },
  {
   "cell_type": "code",
   "execution_count": null,
   "metadata": {},
   "outputs": [],
   "source": [
    "# Correlation Function\n",
    "def correlation(x,y):\n",
    "    std_x = (x - x.mean())/x.std(ddof=0)\n",
    "    std_y = (y - y.mean())/y.std(ddof=0)\n",
    "    \n",
    "    return (std_x * std_y).mean()"
   ]
  },
  {
   "cell_type": "code",
   "execution_count": null,
   "metadata": {},
   "outputs": [],
   "source": [
    "# correlation(co2_emissions_Africa['2000'],sulfur_emissions_Africa['2000'])"
   ]
  },
  {
   "cell_type": "code",
   "execution_count": null,
   "metadata": {},
   "outputs": [],
   "source": []
  },
  {
   "cell_type": "code",
   "execution_count": null,
   "metadata": {},
   "outputs": [],
   "source": []
  },
  {
   "cell_type": "code",
   "execution_count": null,
   "metadata": {
    "scrolled": true
   },
   "outputs": [],
   "source": [
    "# # Sum of emissions for each continent per person\n",
    "# co2_emissions_Africa_sum = co2_emissions_Africa.sum(axis = 0, skipna = True, numeric_only = True) \n",
    "# co2_emissions_Africa_sum = pd.DataFrame(co2_emissions_Africa_sum, columns = [\"Africa\"])\n",
    "\n",
    "# co2_emissions_Asia_sum = co2_emissions_Asia.sum(axis = 0, skipna = True, numeric_only = True) \n",
    "# co2_emissions_Asia_sum = pd.DataFrame(co2_emissions_Asia_sum, columns = [\"Asia\"])\n",
    "\n",
    "# co2_emissions_Europe_sum = co2_emissions_Europe.sum(axis = 0, skipna = True, numeric_only = True) \n",
    "# co2_emissions_Europe_sum = pd.DataFrame(co2_emissions_Europe_sum, columns = [\"Europe\"])\n",
    "\n",
    "# co2_emissions_NorthAmerica_sum = co2_emissions_NorthAmerica.sum(axis = 0, skipna = True, numeric_only = True) \n",
    "# co2_emissions_NorthAmerica_sum = pd.DataFrame(co2_emissions_NorthAmerica_sum, columns = [\"North America\"])\n",
    "\n",
    "# co2_emissions_Oceania_sum = co2_emissions_Oceania.sum(axis = 0, skipna = True, numeric_only = True) \n",
    "# co2_emissions_Oceania_sum = pd.DataFrame(co2_emissions_Oceania_sum, columns = [\"Oceania\"])\n",
    "\n",
    "# co2_emissions_SouthAmerica_sum = co2_emissions_SouthAmerica.sum(axis = 0, skipna = True, numeric_only = True) \n",
    "# co2_emissions_SouthAmerica_sum = pd.DataFrame(co2_emissions_SouthAmerica_sum, columns = [\"South America\"])\n",
    "\n",
    "# co2_emissions_Continents_sum = pd.concat([co2_emissions_Africa_sum, co2_emissions_Asia_sum, co2_emissions_Europe_sum,co2_emissions_NorthAmerica_sum, co2_emissions_Oceania_sum, co2_emissions_SouthAmerica_sum], axis=1)\n",
    "\n",
    "# co2_emissions_Continents_sum.plot(grid=True)\n"
   ]
  },
  {
   "cell_type": "markdown",
   "metadata": {},
   "source": [
    "This method of assessing the CO2 emissions per person for the different countries is not representative of the relative emissions of the continent because by summing the values of each country, by default the continents with more countries will be resulting in higher CO2 emissions per person. The mean might be a better way to compare the continents and their emissions per person."
   ]
  },
  {
   "cell_type": "markdown",
   "metadata": {},
   "source": [
    "#### CO2 Emissions per person (Tonnes)"
   ]
  },
  {
   "cell_type": "code",
   "execution_count": null,
   "metadata": {},
   "outputs": [],
   "source": [
    "# Average emissions for each continent\n",
    "co2_emissions_Africa_mean = pd.DataFrame(co2_emissions_Africa.mean(axis = 0, skipna = True, numeric_only = True) , columns = [\"Africa\"])\n",
    "co2_emissions_Asia_mean = pd.DataFrame(co2_emissions_Asia.mean(axis = 0, skipna = True, numeric_only = True), columns = [\"Asia\"])\n",
    "co2_emissions_Europe_mean = pd.DataFrame(co2_emissions_Europe.mean(axis = 0, skipna = True, numeric_only = True), columns = [\"Europe\"])\n",
    "co2_emissions_NorthAmerica_mean = pd.DataFrame(co2_emissions_NorthAmerica.mean(axis = 0, skipna = True, numeric_only = True), columns = [\"North America\"])\n",
    "co2_emissions_Oceania_mean = pd.DataFrame(co2_emissions_Oceania.mean(axis = 0, skipna = True, numeric_only = True), columns = [\"Oceania\"])\n",
    "co2_emissions_SouthAmerica_mean = pd.DataFrame(co2_emissions_SouthAmerica.mean(axis = 0, skipna = True, numeric_only = True), columns = [\"South America\"])\n",
    "\n",
    "co2_emissions_Continents_mean = pd.concat([co2_emissions_Africa_mean, co2_emissions_Asia_mean, co2_emissions_Europe_mean, co2_emissions_NorthAmerica_mean, co2_emissions_Oceania_mean, co2_emissions_SouthAmerica_mean], axis=1)\n",
    "\n",
    "co2_emissions_Continents_mean_plot = co2_emissions_Continents_mean.plot(grid = True)\n",
    "co2_emissions_Continents_mean_plot.set(xlabel = 'Year', ylabel = 'Average CO2 Emissions per person (Tonnes)', title = 'Continent-Average CO2 Emissions per Person in Tonnes')\n"
   ]
  },
  {
   "cell_type": "markdown",
   "metadata": {},
   "source": [
    "#### Yearly CO2 Emissions (KiloTonnes)"
   ]
  },
  {
   "cell_type": "code",
   "execution_count": null,
   "metadata": {},
   "outputs": [],
   "source": [
    "# Average emissions for each continent\n",
    "yearly_co2_emissions_Africa_mean = pd.DataFrame(yearly_co2_emissions_Africa.mean(axis = 0, skipna = True, numeric_only = True) , columns = [\"Africa\"])\n",
    "yearly_co2_emissions_Asia_mean = pd.DataFrame(yearly_co2_emissions_Asia.mean(axis = 0, skipna = True, numeric_only = True), columns = [\"Asia\"])\n",
    "yearly_co2_emissions_Asia_mean = pd.DataFrame(yearly_co2_emissions_Asia.mean(axis = 0, skipna = True, numeric_only = True), columns = [\"Asia\"])\n",
    "yearly_co2_emissions_Europe_mean = pd.DataFrame(yearly_co2_emissions_Europe.mean(axis = 0, skipna = True, numeric_only = True), columns = [\"Europe\"])\n",
    "yearly_co2_emissions_NorthAmerica_mean = pd.DataFrame(yearly_co2_emissions_NorthAmerica.mean(axis = 0, skipna = True, numeric_only = True), columns = [\"North America\"])\n",
    "yearly_co2_emissions_Oceania_mean = pd.DataFrame(yearly_co2_emissions_Oceania.mean(axis = 0, skipna = True, numeric_only = True), columns = [\"Oceania\"])\n",
    "yearly_co2_emissions_SouthAmerica_mean = pd.DataFrame(yearly_co2_emissions_SouthAmerica.mean(axis = 0, skipna = True, numeric_only = True), columns = [\"South America\"])\n",
    "\n",
    "yearly_co2_emissions_Continents_mean = pd.concat([yearly_co2_emissions_Africa_mean, yearly_co2_emissions_Asia_mean, yearly_co2_emissions_Europe_mean, yearly_co2_emissions_NorthAmerica_mean, yearly_co2_emissions_Oceania_mean, yearly_co2_emissions_SouthAmerica_mean], axis=1)\n",
    "\n",
    "yearly_co2_emissions_Continents_mean_plot = yearly_co2_emissions_Continents_mean.plot(grid = True)\n",
    "yearly_co2_emissions_Continents_mean_plot.set(xlabel = 'Year', ylabel = 'Average yearly CO2 Emissions (KiloTonnes)', title = 'Continent-Average Yearly CO2 Emissions in KiloTonnes')\n"
   ]
  },
  {
   "cell_type": "markdown",
   "metadata": {},
   "source": [
    "#### CO2 Intensity of economic output (kg CO2 per 2011 PPP USD of GDP)"
   ]
  },
  {
   "cell_type": "code",
   "execution_count": null,
   "metadata": {
    "scrolled": true
   },
   "outputs": [],
   "source": [
    "# Average emissions for each continent\n",
    "co2_intensity_Africa_mean = pd.DataFrame(co2_intensity_Africa.mean(axis = 0, skipna = True, numeric_only = True) , columns = [\"Africa\"])\n",
    "co2_intensity_Asia_mean = pd.DataFrame(co2_intensity_Asia.mean(axis = 0, skipna = True, numeric_only = True), columns = [\"Asia\"])\n",
    "co2_intensity_Europe_mean = pd.DataFrame(co2_intensity_Europe.mean(axis = 0, skipna = True, numeric_only = True), columns = [\"Europe\"])\n",
    "co2_intensity_NorthAmerica_mean = pd.DataFrame(co2_intensity_NorthAmerica.mean(axis = 0, skipna = True, numeric_only = True), columns = [\"North America\"])\n",
    "co2_intensity_Oceania_mean = pd.DataFrame(co2_intensity_Oceania.mean(axis = 0, skipna = True, numeric_only = True), columns = [\"Oceania\"])\n",
    "co2_intensity_SouthAmerica_mean = pd.DataFrame(co2_intensity_SouthAmerica.mean(axis = 0, skipna = True, numeric_only = True), columns = [\"South America\"])\n",
    "\n",
    "co2_intensity_Continents_mean = pd.concat([co2_intensity_Africa_mean, co2_intensity_Asia_mean, co2_intensity_Europe_mean, co2_intensity_NorthAmerica_mean, co2_intensity_Oceania_mean, co2_intensity_SouthAmerica_mean], axis=1)\n",
    "\n",
    "co2_intensity_Continents_mean_plot = co2_intensity_Continents_mean.plot(grid = True)\n",
    "co2_intensity_Continents_mean_plot.set(xlabel = 'Year', ylabel = 'Average CO2 intensity of economic output', title = 'Continent-Average CO2 intensity of economic output (kg CO2 per 2011 PPP USD of GDP)')\n"
   ]
  },
  {
   "cell_type": "markdown",
   "metadata": {},
   "source": [
    "#### Cumulative CO2 Emissions (tonnes)"
   ]
  },
  {
   "cell_type": "code",
   "execution_count": null,
   "metadata": {
    "scrolled": true
   },
   "outputs": [],
   "source": [
    "# Average emissions for each continent\n",
    "cumulative_co2_Africa_mean = pd.DataFrame(cumulative_co2_Africa.mean(axis = 0, skipna = True, numeric_only = True) , columns = [\"Africa\"])\n",
    "cumulative_co2_Asia_mean = pd.DataFrame(cumulative_co2_Asia.mean(axis = 0, skipna = True, numeric_only = True), columns = [\"Asia\"])\n",
    "cumulative_co2_Europe_mean = pd.DataFrame(cumulative_co2_Europe.mean(axis = 0, skipna = True, numeric_only = True), columns = [\"Europe\"])\n",
    "cumulative_co2_NorthAmerica_mean = pd.DataFrame(cumulative_co2_NorthAmerica.mean(axis = 0, skipna = True, numeric_only = True), columns = [\"North America\"])\n",
    "cumulative_co2_Oceania_mean = pd.DataFrame(cumulative_co2_Oceania.mean(axis = 0, skipna = True, numeric_only = True), columns = [\"Oceania\"])\n",
    "cumulative_co2_SouthAmerica_mean = pd.DataFrame(cumulative_co2_SouthAmerica.mean(axis = 0, skipna = True, numeric_only = True), columns = [\"South America\"])\n",
    "\n",
    "cumulative_co2_Continents_mean = pd.concat([cumulative_co2_Africa_mean, cumulative_co2_Asia_mean, cumulative_co2_Europe_mean, cumulative_co2_NorthAmerica_mean, cumulative_co2_Oceania_mean, cumulative_co2_SouthAmerica_mean], axis=1)\n",
    "\n",
    "cumulative_co2_Continents_mean_plot = cumulative_co2_Continents_mean.plot(grid = True)\n",
    "cumulative_co2_Continents_mean_plot.set(xlabel = 'Year', ylabel = 'Cumulative CO2 Emissions (Tonnes)', title = 'Continent-Average Cumulative CO2 Emissions in Tonnes')\n"
   ]
  },
  {
   "cell_type": "markdown",
   "metadata": {},
   "source": [
    "#### Sulfur Emissions per Person (kg)"
   ]
  },
  {
   "cell_type": "code",
   "execution_count": null,
   "metadata": {
    "scrolled": true
   },
   "outputs": [],
   "source": [
    "# Average emissions for each continent\n",
    "sulfur_emissions_Africa_mean = pd.DataFrame(sulfur_emissions_Africa.mean(axis = 0, skipna = True, numeric_only = True) , columns = [\"Africa\"])\n",
    "sulfur_emissions_Asia_mean = pd.DataFrame(sulfur_emissions_Asia.mean(axis = 0, skipna = True, numeric_only = True), columns = [\"Asia\"])\n",
    "sulfur_emissions_Europe_mean = pd.DataFrame(sulfur_emissions_Europe.mean(axis = 0, skipna = True, numeric_only = True), columns = [\"Europe\"])\n",
    "sulfur_emissions_NorthAmerica_mean = pd.DataFrame(sulfur_emissions_NorthAmerica.mean(axis = 0, skipna = True, numeric_only = True), columns = [\"North America\"])\n",
    "sulfur_emissions_Oceania_mean = pd.DataFrame(sulfur_emissions_Oceania.mean(axis = 0, skipna = True, numeric_only = True), columns = [\"Oceania\"])\n",
    "sulfur_emissions_SouthAmerica_mean = pd.DataFrame(sulfur_emissions_SouthAmerica.mean(axis = 0, skipna = True, numeric_only = True), columns = [\"South America\"])\n",
    "\n",
    "sulfur_emissions_Continents_mean = pd.concat([sulfur_emissions_Africa_mean, sulfur_emissions_Asia_mean, sulfur_emissions_Europe_mean, sulfur_emissions_NorthAmerica_mean, sulfur_emissions_Oceania_mean, sulfur_emissions_SouthAmerica_mean], axis=1)\n",
    "\n",
    "sulfur_emissions_Continents_mean_plot = sulfur_emissions_Continents_mean.plot(grid = True)\n",
    "sulfur_emissions_Continents_mean_plot.set(xlabel = 'Year', ylabel = 'Average Sulfur Emissions per person (kg)', title = 'Continent-Average Sulfur Emissions per Person in Kg')\n"
   ]
  },
  {
   "cell_type": "markdown",
   "metadata": {},
   "source": [
    "#### Total Sulfur Emissions (KiloTonnes)"
   ]
  },
  {
   "cell_type": "code",
   "execution_count": null,
   "metadata": {},
   "outputs": [],
   "source": [
    "# Average emissions for each continent\n",
    "total_sulfur_emissions_Africa_mean = pd.DataFrame(total_sulfur_emissions_Africa.mean(axis = 0, skipna = True, numeric_only = True) , columns = [\"Africa\"])\n",
    "total_sulfur_emissions_Asia_mean = pd.DataFrame(total_sulfur_emissions_Asia.mean(axis = 0, skipna = True, numeric_only = True), columns = [\"Asia\"])\n",
    "total_sulfur_emissions_Europe_mean = pd.DataFrame(total_sulfur_emissions_Europe.mean(axis = 0, skipna = True, numeric_only = True), columns = [\"Europe\"])\n",
    "total_sulfur_emissions_NorthAmerica_mean = pd.DataFrame(total_sulfur_emissions_NorthAmerica.mean(axis = 0, skipna = True, numeric_only = True), columns = [\"North America\"])\n",
    "total_sulfur_emissions_Oceania_mean = pd.DataFrame(total_sulfur_emissions_Oceania.mean(axis = 0, skipna = True, numeric_only = True), columns = [\"Oceania\"])\n",
    "total_sulfur_emissions_SouthAmerica_mean = pd.DataFrame(total_sulfur_emissions_SouthAmerica.mean(axis = 0, skipna = True, numeric_only = True), columns = [\"South America\"])\n",
    "\n",
    "total_sulfur_emissions_Continents_mean = pd.concat([total_sulfur_emissions_Africa_mean, total_sulfur_emissions_Asia_mean, total_sulfur_emissions_Europe_mean, total_sulfur_emissions_NorthAmerica_mean, total_sulfur_emissions_Oceania_mean, total_sulfur_emissions_SouthAmerica_mean], axis=1)\n",
    "\n",
    "total_sulfur_emissions_Continents_mean_plot = total_sulfur_emissions_Continents_mean.plot(grid = True)\n",
    "total_sulfur_emissions_Continents_mean_plot.set(xlabel = 'Year', ylabel = 'Average Sulfur Emissions (KiloTonnes)', title = 'Continent-Average Total Sulfur Emissions in KiloTonnes')\n"
   ]
  },
  {
   "cell_type": "code",
   "execution_count": null,
   "metadata": {},
   "outputs": [],
   "source": []
  },
  {
   "cell_type": "code",
   "execution_count": null,
   "metadata": {},
   "outputs": [],
   "source": [
    "import geoplot\n",
    "\n",
    "geoplot.choropleth(co2_emissions, hue=None, cmap='Greens', figsize=(8, 4))\n",
    "\n"
   ]
  },
  {
   "cell_type": "code",
   "execution_count": null,
   "metadata": {},
   "outputs": [],
   "source": []
  },
  {
   "cell_type": "markdown",
   "metadata": {},
   "source": []
  },
  {
   "cell_type": "code",
   "execution_count": null,
   "metadata": {
    "collapsed": true
   },
   "outputs": [],
   "source": []
  },
  {
   "cell_type": "code",
   "execution_count": null,
   "metadata": {},
   "outputs": [],
   "source": [
    "import geopandas as gpd\n",
    "from descartes import PolygonPatch\n",
    "\n",
    "world = gpd.read_file(gpd.datasets.get_path('naturalearth_lowres'))\n",
    "\n",
    "def plotCountryPatch( axes, country_name, fcolor ):\n",
    "    nami = world[world.name == country_name]\n",
    "    namigm = nami.__geo_interface__['features']  # geopandas's geo_interface\n",
    "    namig0 = {'type': namigm[0]['geometry']['type'], \\\n",
    "              'coordinates': namigm[0]['geometry']['coordinates']}\n",
    "    axes.add_patch(PolygonPatch( namig0, fc=fcolor, ec=\"black\", alpha=0.85, zorder=2 ))\n",
    "\n",
    "# plot the whole world\n",
    "ax2 = world.plot( figsize=(8,4), edgecolor=u'gray', cmap='Set2' )\n",
    "\n",
    "#world.plot(column='2014', cmap='OrRd');\n"
   ]
  },
  {
   "cell_type": "markdown",
   "metadata": {},
   "source": []
  },
  {
   "cell_type": "code",
   "execution_count": null,
   "metadata": {
    "collapsed": true
   },
   "outputs": [],
   "source": [
    "\n"
   ]
  },
  {
   "cell_type": "markdown",
   "metadata": {},
   "source": [
    "<a id='conclusions'></a>\n",
    "## Conclusions\n",
    "\n",
    "> **Tip**: Finally, summarize your findings and the results that have been performed. Make sure that you are clear with regards to the limitations of your exploration. If you haven't done any statistical tests, do not imply any statistical conclusions. And make sure you avoid implying causation from correlation!\n",
    "\n",
    "> **Tip**: Once you are satisfied with your work, you should save a copy of the report in HTML or PDF form via the **File** > **Download as** submenu. Before exporting your report, check over it to make sure that the flow of the report is complete. You should probably remove all of the \"Tip\" quotes like this one so that the presentation is as tidy as possible. Congratulations!"
   ]
  },
  {
   "cell_type": "code",
   "execution_count": null,
   "metadata": {
    "collapsed": true
   },
   "outputs": [],
   "source": []
  }
 ],
 "metadata": {
  "kernelspec": {
   "display_name": "Python 2",
   "language": "python",
   "name": "python2"
  },
  "language_info": {
   "codemirror_mode": {
    "name": "ipython",
    "version": 2
   },
   "file_extension": ".py",
   "mimetype": "text/x-python",
   "name": "python",
   "nbconvert_exporter": "python",
   "pygments_lexer": "ipython2",
   "version": "2.7.15"
  }
 },
 "nbformat": 4,
 "nbformat_minor": 2
}
